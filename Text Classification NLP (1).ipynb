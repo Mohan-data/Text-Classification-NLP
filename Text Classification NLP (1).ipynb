{
 "cells": [
  {
   "cell_type": "markdown",
   "id": "3e196a32",
   "metadata": {},
   "source": [
    "# Problem Statement"
   ]
  },
  {
   "cell_type": "markdown",
   "id": "3cff3da0",
   "metadata": {},
   "source": [
    "\"Develop a text classification model for sentiment analysis that accurately categorizes text data into two classes: positive and negative reviews. The dataset consists of textual reviews with associated labels, where reviews labeled with '__label__2' represent positive reviews and '__label__1' represent negative reviews. The objective is to create a robust and reliable NLP model capable of automatically classifying user-generated text reviews, such as product reviews, movie reviews, or book reviews, into these two sentiment classes."
   ]
  },
  {
   "cell_type": "markdown",
   "id": "e5344715",
   "metadata": {},
   "source": [
    "# Import Libraries"
   ]
  },
  {
   "cell_type": "code",
   "execution_count": 6,
   "id": "a5344cb0",
   "metadata": {},
   "outputs": [],
   "source": [
    "import numpy as np\n",
    "import pandas as pd\n",
    "from wordcloud import WordCloud\n",
    "from matplotlib import pyplot as plt\n",
    "import seaborn as sns\n",
    "import nltk\n",
    "import re\n",
    "from collections import Counter"
   ]
  },
  {
   "cell_type": "markdown",
   "id": "5342aac6",
   "metadata": {},
   "source": [
    "# load data"
   ]
  },
  {
   "cell_type": "code",
   "execution_count": 7,
   "id": "844015cb",
   "metadata": {},
   "outputs": [],
   "source": [
    "df=pd.read_csv(r\"C:\\Users\\Admin\\Desktop\\EcomReviews_8k.csv\")"
   ]
  },
  {
   "cell_type": "code",
   "execution_count": 8,
   "id": "d10460e2",
   "metadata": {},
   "outputs": [
    {
     "data": {
      "text/html": [
       "<div>\n",
       "<style scoped>\n",
       "    .dataframe tbody tr th:only-of-type {\n",
       "        vertical-align: middle;\n",
       "    }\n",
       "\n",
       "    .dataframe tbody tr th {\n",
       "        vertical-align: top;\n",
       "    }\n",
       "\n",
       "    .dataframe thead th {\n",
       "        text-align: right;\n",
       "    }\n",
       "</style>\n",
       "<table border=\"1\" class=\"dataframe\">\n",
       "  <thead>\n",
       "    <tr style=\"text-align: right;\">\n",
       "      <th></th>\n",
       "      <th>labels</th>\n",
       "      <th>text</th>\n",
       "    </tr>\n",
       "  </thead>\n",
       "  <tbody>\n",
       "    <tr>\n",
       "      <th>0</th>\n",
       "      <td>__label__2</td>\n",
       "      <td>Rose Dawson Malaysia: All must buy the album o...</td>\n",
       "    </tr>\n",
       "    <tr>\n",
       "      <th>1</th>\n",
       "      <td>__label__2</td>\n",
       "      <td>a precious resource for Christian contemplatio...</td>\n",
       "    </tr>\n",
       "    <tr>\n",
       "      <th>2</th>\n",
       "      <td>__label__1</td>\n",
       "      <td>Rename it to \"RedSox, Yankees and Giants\": I'v...</td>\n",
       "    </tr>\n",
       "    <tr>\n",
       "      <th>3</th>\n",
       "      <td>__label__1</td>\n",
       "      <td>Boring!: This game is based on a great concept...</td>\n",
       "    </tr>\n",
       "    <tr>\n",
       "      <th>4</th>\n",
       "      <td>__label__1</td>\n",
       "      <td>Lost in the 70's: The Eurovision song contest ...</td>\n",
       "    </tr>\n",
       "  </tbody>\n",
       "</table>\n",
       "</div>"
      ],
      "text/plain": [
       "       labels                                               text\n",
       "0  __label__2  Rose Dawson Malaysia: All must buy the album o...\n",
       "1  __label__2  a precious resource for Christian contemplatio...\n",
       "2  __label__1  Rename it to \"RedSox, Yankees and Giants\": I'v...\n",
       "3  __label__1  Boring!: This game is based on a great concept...\n",
       "4  __label__1  Lost in the 70's: The Eurovision song contest ..."
      ]
     },
     "execution_count": 8,
     "metadata": {},
     "output_type": "execute_result"
    }
   ],
   "source": [
    "df.head()"
   ]
  },
  {
   "cell_type": "markdown",
   "id": "b9501c6d",
   "metadata": {},
   "source": [
    "# data understanding"
   ]
  },
  {
   "cell_type": "markdown",
   "id": "ad13c664",
   "metadata": {},
   "source": [
    "Lable 2 -positive review \n",
    "\n",
    "Label-1 -Neagtive review\n",
    "\n",
    "Label 2 (Positive Review): This label is assigned to text data that represents positive reviews. It indicates that the content of the review expresses satisfaction, appreciation, or a positive sentiment towards the subject of the review, which could be a product, service, or any other entity.\n",
    "\n",
    "Label 1 (Negative Review): This label is used for text data that corresponds to negative reviews. It signifies that the text content contains criticism, dissatisfaction, or a negative sentiment towards the subject of the review. Negative reviews typically highlight shortcomings, issues, or unfavorable experiences."
   ]
  },
  {
   "cell_type": "markdown",
   "id": "fa4a45a0",
   "metadata": {},
   "source": [
    "# Feauture engineering"
   ]
  },
  {
   "cell_type": "markdown",
   "id": "4b007790",
   "metadata": {},
   "source": [
    "##### Tokenization "
   ]
  },
  {
   "cell_type": "code",
   "execution_count": 9,
   "id": "5be92bbc",
   "metadata": {},
   "outputs": [],
   "source": [
    "\n",
    "def tokenize(text):\n",
    "    return re.findall(r'\\w+',text)"
   ]
  },
  {
   "cell_type": "markdown",
   "id": "39310618",
   "metadata": {},
   "source": [
    "##### Stop words "
   ]
  },
  {
   "cell_type": "code",
   "execution_count": 10,
   "id": "6230ff76",
   "metadata": {},
   "outputs": [],
   "source": [
    "stop_words = nltk.corpus.stopwords.words('English')"
   ]
  },
  {
   "cell_type": "code",
   "execution_count": 11,
   "id": "317f79b5",
   "metadata": {},
   "outputs": [
    {
     "name": "stdout",
     "output_type": "stream",
     "text": [
      "['i', 'me', 'my', 'myself', 'we', 'our', 'ours', 'ourselves', 'you', \"you're\", \"you've\", \"you'll\", \"you'd\", 'your', 'yours', 'yourself', 'yourselves', 'he', 'him', 'his', 'himself', 'she', \"she's\", 'her', 'hers', 'herself', 'it', \"it's\", 'its', 'itself', 'they', 'them', 'their', 'theirs', 'themselves', 'what', 'which', 'who', 'whom', 'this', 'that', \"that'll\", 'these', 'those', 'am', 'is', 'are', 'was', 'were', 'be', 'been', 'being', 'have', 'has', 'had', 'having', 'do', 'does', 'did', 'doing', 'a', 'an', 'the', 'and', 'but', 'if', 'or', 'because', 'as', 'until', 'while', 'of', 'at', 'by', 'for', 'with', 'about', 'against', 'between', 'into', 'through', 'during', 'before', 'after', 'above', 'below', 'to', 'from', 'up', 'down', 'in', 'out', 'on', 'off', 'over', 'under', 'again', 'further', 'then', 'once', 'here', 'there', 'when', 'where', 'why', 'how', 'all', 'any', 'both', 'each', 'few', 'more', 'most', 'other', 'some', 'such', 'no', 'nor', 'not', 'only', 'own', 'same', 'so', 'than', 'too', 'very', 's', 't', 'can', 'will', 'just', 'don', \"don't\", 'should', \"should've\", 'now', 'd', 'll', 'm', 'o', 're', 've', 'y', 'ain', 'aren', \"aren't\", 'couldn', \"couldn't\", 'didn', \"didn't\", 'doesn', \"doesn't\", 'hadn', \"hadn't\", 'hasn', \"hasn't\", 'haven', \"haven't\", 'isn', \"isn't\", 'ma', 'mightn', \"mightn't\", 'mustn', \"mustn't\", 'needn', \"needn't\", 'shan', \"shan't\", 'shouldn', \"shouldn't\", 'wasn', \"wasn't\", 'weren', \"weren't\", 'won', \"won't\", 'wouldn', \"wouldn't\"]\n"
     ]
    }
   ],
   "source": [
    "print(stop_words)"
   ]
  },
  {
   "cell_type": "code",
   "execution_count": 12,
   "id": "b0512393",
   "metadata": {},
   "outputs": [
    {
     "data": {
      "text/plain": [
       "['i',\n",
       " 'me',\n",
       " 'my',\n",
       " 'myself',\n",
       " 'we',\n",
       " 'our',\n",
       " 'ours',\n",
       " 'ourselves',\n",
       " 'you',\n",
       " \"you're\",\n",
       " \"you've\",\n",
       " \"you'll\",\n",
       " \"you'd\",\n",
       " 'your',\n",
       " 'yours',\n",
       " 'yourself',\n",
       " 'yourselves',\n",
       " 'he',\n",
       " 'him',\n",
       " 'his',\n",
       " 'himself',\n",
       " 'she',\n",
       " \"she's\",\n",
       " 'her',\n",
       " 'hers',\n",
       " 'herself',\n",
       " 'it',\n",
       " \"it's\",\n",
       " 'its',\n",
       " 'itself',\n",
       " 'they',\n",
       " 'them',\n",
       " 'their',\n",
       " 'theirs',\n",
       " 'themselves',\n",
       " 'what',\n",
       " 'which',\n",
       " 'who',\n",
       " 'whom',\n",
       " 'this',\n",
       " 'that',\n",
       " \"that'll\",\n",
       " 'these',\n",
       " 'those',\n",
       " 'am',\n",
       " 'is',\n",
       " 'are',\n",
       " 'was',\n",
       " 'were',\n",
       " 'be',\n",
       " 'been',\n",
       " 'being',\n",
       " 'have',\n",
       " 'has',\n",
       " 'had',\n",
       " 'having',\n",
       " 'do',\n",
       " 'does',\n",
       " 'did',\n",
       " 'doing',\n",
       " 'a',\n",
       " 'an',\n",
       " 'the',\n",
       " 'and',\n",
       " 'but',\n",
       " 'if',\n",
       " 'or',\n",
       " 'because',\n",
       " 'as',\n",
       " 'until',\n",
       " 'while',\n",
       " 'of',\n",
       " 'at',\n",
       " 'by',\n",
       " 'for',\n",
       " 'with',\n",
       " 'about',\n",
       " 'against',\n",
       " 'between',\n",
       " 'into',\n",
       " 'through',\n",
       " 'during',\n",
       " 'before',\n",
       " 'after',\n",
       " 'above',\n",
       " 'below',\n",
       " 'to',\n",
       " 'from',\n",
       " 'up',\n",
       " 'down',\n",
       " 'in',\n",
       " 'out',\n",
       " 'on',\n",
       " 'off',\n",
       " 'over',\n",
       " 'under',\n",
       " 'again',\n",
       " 'further',\n",
       " 'then',\n",
       " 'once',\n",
       " 'here',\n",
       " 'there',\n",
       " 'when',\n",
       " 'where',\n",
       " 'why',\n",
       " 'how',\n",
       " 'all',\n",
       " 'any',\n",
       " 'both',\n",
       " 'each',\n",
       " 'few',\n",
       " 'more',\n",
       " 'most',\n",
       " 'other',\n",
       " 'some',\n",
       " 'such',\n",
       " 'no',\n",
       " 'nor',\n",
       " 'not',\n",
       " 'only',\n",
       " 'own',\n",
       " 'same',\n",
       " 'so',\n",
       " 'than',\n",
       " 'too',\n",
       " 'very',\n",
       " 's',\n",
       " 't',\n",
       " 'can',\n",
       " 'will',\n",
       " 'just',\n",
       " 'don',\n",
       " \"don't\",\n",
       " 'should',\n",
       " \"should've\",\n",
       " 'now',\n",
       " 'd',\n",
       " 'll',\n",
       " 'm',\n",
       " 'o',\n",
       " 're',\n",
       " 've',\n",
       " 'y',\n",
       " 'ain',\n",
       " 'aren',\n",
       " \"aren't\",\n",
       " 'couldn',\n",
       " \"couldn't\",\n",
       " 'didn',\n",
       " \"didn't\",\n",
       " 'doesn',\n",
       " \"doesn't\",\n",
       " 'hadn',\n",
       " \"hadn't\",\n",
       " 'hasn',\n",
       " \"hasn't\",\n",
       " 'haven',\n",
       " \"haven't\",\n",
       " 'isn',\n",
       " \"isn't\",\n",
       " 'ma',\n",
       " 'mightn',\n",
       " \"mightn't\",\n",
       " 'mustn',\n",
       " \"mustn't\",\n",
       " 'needn',\n",
       " \"needn't\",\n",
       " 'shan',\n",
       " \"shan't\",\n",
       " 'shouldn',\n",
       " \"shouldn't\",\n",
       " 'wasn',\n",
       " \"wasn't\",\n",
       " 'weren',\n",
       " \"weren't\",\n",
       " 'won',\n",
       " \"won't\",\n",
       " 'wouldn',\n",
       " \"wouldn't\"]"
      ]
     },
     "execution_count": 12,
     "metadata": {},
     "output_type": "execute_result"
    }
   ],
   "source": [
    "stop_words"
   ]
  },
  {
   "cell_type": "code",
   "execution_count": 13,
   "id": "c4ac9c95",
   "metadata": {},
   "outputs": [],
   "source": [
    "#remove stop words"
   ]
  },
  {
   "cell_type": "code",
   "execution_count": 14,
   "id": "cb38d89a",
   "metadata": {},
   "outputs": [],
   "source": [
    "def remove_stop(tokens):\n",
    "    return [t for t in tokens if t.lower() not in stop_words]"
   ]
  },
  {
   "cell_type": "code",
   "execution_count": 15,
   "id": "eb89381b",
   "metadata": {},
   "outputs": [
    {
     "data": {
      "text/plain": [
       "179"
      ]
     },
     "execution_count": 15,
     "metadata": {},
     "output_type": "execute_result"
    }
   ],
   "source": [
    "len(stop_words)"
   ]
  },
  {
   "cell_type": "code",
   "execution_count": 16,
   "id": "b0f18b42",
   "metadata": {},
   "outputs": [],
   "source": [
    "def remove_stop(tokens):\n",
    "    stop_removed_tokens = []\n",
    "    for t in tokens:\n",
    "        if t.lower() not in stop_words:\n",
    "            stop_removed_tokens.append(t)\n",
    "    return stop_removed_tokens"
   ]
  },
  {
   "cell_type": "code",
   "execution_count": 17,
   "id": "44af9e01",
   "metadata": {},
   "outputs": [],
   "source": [
    "#prepare data pipeline"
   ]
  },
  {
   "cell_type": "code",
   "execution_count": 18,
   "id": "96ec2e44",
   "metadata": {},
   "outputs": [],
   "source": [
    "def prepare(text, pipeline):\n",
    "    tokens=text\n",
    "    for transform in pipeline:\n",
    "        tokens=transform(tokens)\n",
    "    return tokens"
   ]
  },
  {
   "cell_type": "code",
   "execution_count": 19,
   "id": "70eacb35",
   "metadata": {},
   "outputs": [],
   "source": [
    "pipeline = [str.lower, tokenize, remove_stop,]"
   ]
  },
  {
   "cell_type": "code",
   "execution_count": 20,
   "id": "dd79d466",
   "metadata": {},
   "outputs": [],
   "source": [
    "df['tokens']=df['text'].apply(prepare,pipeline=pipeline)"
   ]
  },
  {
   "cell_type": "code",
   "execution_count": 21,
   "id": "acb86f25",
   "metadata": {},
   "outputs": [
    {
     "data": {
      "text/html": [
       "<div>\n",
       "<style scoped>\n",
       "    .dataframe tbody tr th:only-of-type {\n",
       "        vertical-align: middle;\n",
       "    }\n",
       "\n",
       "    .dataframe tbody tr th {\n",
       "        vertical-align: top;\n",
       "    }\n",
       "\n",
       "    .dataframe thead th {\n",
       "        text-align: right;\n",
       "    }\n",
       "</style>\n",
       "<table border=\"1\" class=\"dataframe\">\n",
       "  <thead>\n",
       "    <tr style=\"text-align: right;\">\n",
       "      <th></th>\n",
       "      <th>labels</th>\n",
       "      <th>text</th>\n",
       "      <th>tokens</th>\n",
       "    </tr>\n",
       "  </thead>\n",
       "  <tbody>\n",
       "    <tr>\n",
       "      <th>0</th>\n",
       "      <td>__label__2</td>\n",
       "      <td>Rose Dawson Malaysia: All must buy the album o...</td>\n",
       "      <td>[rose, dawson, malaysia, must, buy, album, let...</td>\n",
       "    </tr>\n",
       "    <tr>\n",
       "      <th>1</th>\n",
       "      <td>__label__2</td>\n",
       "      <td>a precious resource for Christian contemplatio...</td>\n",
       "      <td>[precious, resource, christian, contemplation,...</td>\n",
       "    </tr>\n",
       "    <tr>\n",
       "      <th>2</th>\n",
       "      <td>__label__1</td>\n",
       "      <td>Rename it to \"RedSox, Yankees and Giants\": I'v...</td>\n",
       "      <td>[rename, redsox, yankees, giants, always, trus...</td>\n",
       "    </tr>\n",
       "    <tr>\n",
       "      <th>3</th>\n",
       "      <td>__label__1</td>\n",
       "      <td>Boring!: This game is based on a great concept...</td>\n",
       "      <td>[boring, game, based, great, concept, falls, s...</td>\n",
       "    </tr>\n",
       "    <tr>\n",
       "      <th>4</th>\n",
       "      <td>__label__1</td>\n",
       "      <td>Lost in the 70's: The Eurovision song contest ...</td>\n",
       "      <td>[lost, 70, eurovision, song, contest, come, go...</td>\n",
       "    </tr>\n",
       "  </tbody>\n",
       "</table>\n",
       "</div>"
      ],
      "text/plain": [
       "       labels                                               text  \\\n",
       "0  __label__2  Rose Dawson Malaysia: All must buy the album o...   \n",
       "1  __label__2  a precious resource for Christian contemplatio...   \n",
       "2  __label__1  Rename it to \"RedSox, Yankees and Giants\": I'v...   \n",
       "3  __label__1  Boring!: This game is based on a great concept...   \n",
       "4  __label__1  Lost in the 70's: The Eurovision song contest ...   \n",
       "\n",
       "                                              tokens  \n",
       "0  [rose, dawson, malaysia, must, buy, album, let...  \n",
       "1  [precious, resource, christian, contemplation,...  \n",
       "2  [rename, redsox, yankees, giants, always, trus...  \n",
       "3  [boring, game, based, great, concept, falls, s...  \n",
       "4  [lost, 70, eurovision, song, contest, come, go...  "
      ]
     },
     "execution_count": 21,
     "metadata": {},
     "output_type": "execute_result"
    }
   ],
   "source": [
    "df.head()"
   ]
  },
  {
   "cell_type": "code",
   "execution_count": 22,
   "id": "4b9edb54",
   "metadata": {},
   "outputs": [
    {
     "data": {
      "text/plain": [
       "0       Rose Dawson Malaysia: All must buy the album o...\n",
       "1       a precious resource for Christian contemplatio...\n",
       "2       Rename it to \"RedSox, Yankees and Giants\": I'v...\n",
       "3       Boring!: This game is based on a great concept...\n",
       "4       Lost in the 70's: The Eurovision song contest ...\n",
       "                              ...                        \n",
       "7995    Very Helpful: Although I have a gram index on ...\n",
       "7996    Scratched up cd: When I got this cd and played...\n",
       "7997    ...in a few words, But Great Insight!: I was i...\n",
       "7998    You get what you pay for: I bought this after ...\n",
       "7999    Really Cool and Easy to use!: Third digital ca...\n",
       "Name: text, Length: 8000, dtype: object"
      ]
     },
     "execution_count": 22,
     "metadata": {},
     "output_type": "execute_result"
    }
   ],
   "source": [
    "df['text']"
   ]
  },
  {
   "cell_type": "code",
   "execution_count": 23,
   "id": "9f12ea3f",
   "metadata": {},
   "outputs": [],
   "source": [
    "df['num_tokens']=df['tokens'].apply(len)"
   ]
  },
  {
   "cell_type": "code",
   "execution_count": 24,
   "id": "6be7bfda",
   "metadata": {},
   "outputs": [],
   "source": [
    "df['text_len']=df['text'].apply(len)"
   ]
  },
  {
   "cell_type": "code",
   "execution_count": 25,
   "id": "68f21228",
   "metadata": {},
   "outputs": [
    {
     "data": {
      "text/html": [
       "<div>\n",
       "<style scoped>\n",
       "    .dataframe tbody tr th:only-of-type {\n",
       "        vertical-align: middle;\n",
       "    }\n",
       "\n",
       "    .dataframe tbody tr th {\n",
       "        vertical-align: top;\n",
       "    }\n",
       "\n",
       "    .dataframe thead th {\n",
       "        text-align: right;\n",
       "    }\n",
       "</style>\n",
       "<table border=\"1\" class=\"dataframe\">\n",
       "  <thead>\n",
       "    <tr style=\"text-align: right;\">\n",
       "      <th></th>\n",
       "      <th>labels</th>\n",
       "      <th>text</th>\n",
       "      <th>tokens</th>\n",
       "      <th>num_tokens</th>\n",
       "      <th>text_len</th>\n",
       "    </tr>\n",
       "  </thead>\n",
       "  <tbody>\n",
       "    <tr>\n",
       "      <th>0</th>\n",
       "      <td>__label__2</td>\n",
       "      <td>Rose Dawson Malaysia: All must buy the album o...</td>\n",
       "      <td>[rose, dawson, malaysia, must, buy, album, let...</td>\n",
       "      <td>19</td>\n",
       "      <td>205</td>\n",
       "    </tr>\n",
       "    <tr>\n",
       "      <th>1</th>\n",
       "      <td>__label__2</td>\n",
       "      <td>a precious resource for Christian contemplatio...</td>\n",
       "      <td>[precious, resource, christian, contemplation,...</td>\n",
       "      <td>66</td>\n",
       "      <td>655</td>\n",
       "    </tr>\n",
       "    <tr>\n",
       "      <th>2</th>\n",
       "      <td>__label__1</td>\n",
       "      <td>Rename it to \"RedSox, Yankees and Giants\": I'v...</td>\n",
       "      <td>[rename, redsox, yankees, giants, always, trus...</td>\n",
       "      <td>59</td>\n",
       "      <td>660</td>\n",
       "    </tr>\n",
       "    <tr>\n",
       "      <th>3</th>\n",
       "      <td>__label__1</td>\n",
       "      <td>Boring!: This game is based on a great concept...</td>\n",
       "      <td>[boring, game, based, great, concept, falls, s...</td>\n",
       "      <td>26</td>\n",
       "      <td>256</td>\n",
       "    </tr>\n",
       "    <tr>\n",
       "      <th>4</th>\n",
       "      <td>__label__1</td>\n",
       "      <td>Lost in the 70's: The Eurovision song contest ...</td>\n",
       "      <td>[lost, 70, eurovision, song, contest, come, go...</td>\n",
       "      <td>46</td>\n",
       "      <td>511</td>\n",
       "    </tr>\n",
       "  </tbody>\n",
       "</table>\n",
       "</div>"
      ],
      "text/plain": [
       "       labels                                               text  \\\n",
       "0  __label__2  Rose Dawson Malaysia: All must buy the album o...   \n",
       "1  __label__2  a precious resource for Christian contemplatio...   \n",
       "2  __label__1  Rename it to \"RedSox, Yankees and Giants\": I'v...   \n",
       "3  __label__1  Boring!: This game is based on a great concept...   \n",
       "4  __label__1  Lost in the 70's: The Eurovision song contest ...   \n",
       "\n",
       "                                              tokens  num_tokens  text_len  \n",
       "0  [rose, dawson, malaysia, must, buy, album, let...          19       205  \n",
       "1  [precious, resource, christian, contemplation,...          66       655  \n",
       "2  [rename, redsox, yankees, giants, always, trus...          59       660  \n",
       "3  [boring, game, based, great, concept, falls, s...          26       256  \n",
       "4  [lost, 70, eurovision, song, contest, come, go...          46       511  "
      ]
     },
     "execution_count": 25,
     "metadata": {},
     "output_type": "execute_result"
    }
   ],
   "source": [
    "df.head()"
   ]
  },
  {
   "cell_type": "code",
   "execution_count": null,
   "id": "dc77a210",
   "metadata": {},
   "outputs": [],
   "source": []
  },
  {
   "cell_type": "markdown",
   "id": "359a3c6f",
   "metadata": {},
   "source": [
    "## bag of words "
   ]
  },
  {
   "cell_type": "code",
   "execution_count": 26,
   "id": "87184adb",
   "metadata": {},
   "outputs": [],
   "source": [
    "tokens=df['tokens'][0]\n",
    "bow = dict.fromkeys(tokens,0)   \n",
    "\n",
    "for i in bow:\n",
    "    bow[i]=tokens.count(i)"
   ]
  },
  {
   "cell_type": "code",
   "execution_count": 27,
   "id": "6090caba",
   "metadata": {},
   "outputs": [
    {
     "data": {
      "text/plain": [
       "{'rose': 1,\n",
       " 'dawson': 1,\n",
       " 'malaysia': 1,\n",
       " 'must': 1,\n",
       " 'buy': 1,\n",
       " 'album': 1,\n",
       " 'let': 1,\n",
       " 'talk': 1,\n",
       " 'love': 1,\n",
       " 'interesting': 1,\n",
       " 'information': 1,\n",
       " 'already': 1,\n",
       " 'heard': 1,\n",
       " 'song': 1,\n",
       " 'heart': 1,\n",
       " 'go': 1,\n",
       " '566': 1,\n",
       " 'times': 1,\n",
       " 'believe': 1}"
      ]
     },
     "execution_count": 27,
     "metadata": {},
     "output_type": "execute_result"
    }
   ],
   "source": [
    "bow"
   ]
  },
  {
   "cell_type": "code",
   "execution_count": 28,
   "id": "1889849e",
   "metadata": {},
   "outputs": [],
   "source": [
    "counter=Counter(tokens)"
   ]
  },
  {
   "cell_type": "code",
   "execution_count": 29,
   "id": "51de9987",
   "metadata": {},
   "outputs": [
    {
     "name": "stdout",
     "output_type": "stream",
     "text": [
      "Counter({'rose': 1, 'dawson': 1, 'malaysia': 1, 'must': 1, 'buy': 1, 'album': 1, 'let': 1, 'talk': 1, 'love': 1, 'interesting': 1, 'information': 1, 'already': 1, 'heard': 1, 'song': 1, 'heart': 1, 'go': 1, '566': 1, 'times': 1, 'believe': 1})\n"
     ]
    }
   ],
   "source": [
    "print(counter)"
   ]
  },
  {
   "cell_type": "code",
   "execution_count": 30,
   "id": "85308d27",
   "metadata": {},
   "outputs": [
    {
     "data": {
      "text/plain": [
       "Counter({'rose': 1,\n",
       "         'dawson': 1,\n",
       "         'malaysia': 1,\n",
       "         'must': 1,\n",
       "         'buy': 1,\n",
       "         'album': 1,\n",
       "         'let': 1,\n",
       "         'talk': 1,\n",
       "         'love': 1,\n",
       "         'interesting': 1,\n",
       "         'information': 1,\n",
       "         'already': 1,\n",
       "         'heard': 1,\n",
       "         'song': 1,\n",
       "         'heart': 1,\n",
       "         'go': 1,\n",
       "         '566': 1,\n",
       "         'times': 1,\n",
       "         'believe': 1})"
      ]
     },
     "execution_count": 30,
     "metadata": {},
     "output_type": "execute_result"
    }
   ],
   "source": [
    "counter"
   ]
  },
  {
   "cell_type": "code",
   "execution_count": 31,
   "id": "4eb9207c",
   "metadata": {},
   "outputs": [],
   "source": [
    "# most comman words"
   ]
  },
  {
   "cell_type": "code",
   "execution_count": 32,
   "id": "56d0deb3",
   "metadata": {},
   "outputs": [
    {
     "data": {
      "text/plain": [
       "[('rose', 1),\n",
       " ('dawson', 1),\n",
       " ('malaysia', 1),\n",
       " ('must', 1),\n",
       " ('buy', 1),\n",
       " ('album', 1),\n",
       " ('let', 1),\n",
       " ('talk', 1),\n",
       " ('love', 1),\n",
       " ('interesting', 1)]"
      ]
     },
     "execution_count": 32,
     "metadata": {},
     "output_type": "execute_result"
    }
   ],
   "source": [
    "counter.most_common(10)"
   ]
  },
  {
   "cell_type": "code",
   "execution_count": 33,
   "id": "8d9e5d81",
   "metadata": {},
   "outputs": [],
   "source": [
    "def count_words(df,column='tokens',preprocess=None,min_freq=2):\n",
    "    def update(doc):  \n",
    "        tokens=doc if preprocess is None else preprocess(doc)\n",
    "        counter.update(tokens) \n",
    "    counter=Counter()\n",
    "    df[column].apply(update) \n",
    "    freq_df=pd.DataFrame.from_dict(counter,orient='index',columns=['freq'])\n",
    "    freq_df=freq_df.query('freq>@min_freq') \n",
    "    return freq_df.sort_values('freq',ascending=False)"
   ]
  },
  {
   "cell_type": "code",
   "execution_count": 34,
   "id": "e1dc8daa",
   "metadata": {},
   "outputs": [],
   "source": [
    "freq_df=count_words(df)"
   ]
  },
  {
   "cell_type": "code",
   "execution_count": 35,
   "id": "d21b8f2f",
   "metadata": {},
   "outputs": [
    {
     "data": {
      "text/html": [
       "<div>\n",
       "<style scoped>\n",
       "    .dataframe tbody tr th:only-of-type {\n",
       "        vertical-align: middle;\n",
       "    }\n",
       "\n",
       "    .dataframe tbody tr th {\n",
       "        vertical-align: top;\n",
       "    }\n",
       "\n",
       "    .dataframe thead th {\n",
       "        text-align: right;\n",
       "    }\n",
       "</style>\n",
       "<table border=\"1\" class=\"dataframe\">\n",
       "  <thead>\n",
       "    <tr style=\"text-align: right;\">\n",
       "      <th></th>\n",
       "      <th>freq</th>\n",
       "    </tr>\n",
       "  </thead>\n",
       "  <tbody>\n",
       "    <tr>\n",
       "      <th>book</th>\n",
       "      <td>4389</td>\n",
       "    </tr>\n",
       "    <tr>\n",
       "      <th>one</th>\n",
       "      <td>3070</td>\n",
       "    </tr>\n",
       "    <tr>\n",
       "      <th>great</th>\n",
       "      <td>2379</td>\n",
       "    </tr>\n",
       "    <tr>\n",
       "      <th>good</th>\n",
       "      <td>2298</td>\n",
       "    </tr>\n",
       "    <tr>\n",
       "      <th>like</th>\n",
       "      <td>2245</td>\n",
       "    </tr>\n",
       "    <tr>\n",
       "      <th>...</th>\n",
       "      <td>...</td>\n",
       "    </tr>\n",
       "    <tr>\n",
       "      <th>bouts</th>\n",
       "      <td>3</td>\n",
       "    </tr>\n",
       "    <tr>\n",
       "      <th>bossa</th>\n",
       "      <td>3</td>\n",
       "    </tr>\n",
       "    <tr>\n",
       "      <th>ankle</th>\n",
       "      <td>3</td>\n",
       "    </tr>\n",
       "    <tr>\n",
       "      <th>pricy</th>\n",
       "      <td>3</td>\n",
       "    </tr>\n",
       "    <tr>\n",
       "      <th>storylines</th>\n",
       "      <td>3</td>\n",
       "    </tr>\n",
       "  </tbody>\n",
       "</table>\n",
       "<p>11123 rows × 1 columns</p>\n",
       "</div>"
      ],
      "text/plain": [
       "            freq\n",
       "book        4389\n",
       "one         3070\n",
       "great       2379\n",
       "good        2298\n",
       "like        2245\n",
       "...          ...\n",
       "bouts          3\n",
       "bossa          3\n",
       "ankle          3\n",
       "pricy          3\n",
       "storylines     3\n",
       "\n",
       "[11123 rows x 1 columns]"
      ]
     },
     "execution_count": 35,
     "metadata": {},
     "output_type": "execute_result"
    }
   ],
   "source": [
    "freq_df"
   ]
  },
  {
   "cell_type": "code",
   "execution_count": 36,
   "id": "f08592cd",
   "metadata": {},
   "outputs": [
    {
     "data": {
      "text/html": [
       "<div>\n",
       "<style scoped>\n",
       "    .dataframe tbody tr th:only-of-type {\n",
       "        vertical-align: middle;\n",
       "    }\n",
       "\n",
       "    .dataframe tbody tr th {\n",
       "        vertical-align: top;\n",
       "    }\n",
       "\n",
       "    .dataframe thead th {\n",
       "        text-align: right;\n",
       "    }\n",
       "</style>\n",
       "<table border=\"1\" class=\"dataframe\">\n",
       "  <thead>\n",
       "    <tr style=\"text-align: right;\">\n",
       "      <th></th>\n",
       "      <th>freq</th>\n",
       "    </tr>\n",
       "  </thead>\n",
       "  <tbody>\n",
       "    <tr>\n",
       "      <th>book</th>\n",
       "      <td>4389</td>\n",
       "    </tr>\n",
       "    <tr>\n",
       "      <th>one</th>\n",
       "      <td>3070</td>\n",
       "    </tr>\n",
       "    <tr>\n",
       "      <th>great</th>\n",
       "      <td>2379</td>\n",
       "    </tr>\n",
       "    <tr>\n",
       "      <th>good</th>\n",
       "      <td>2298</td>\n",
       "    </tr>\n",
       "    <tr>\n",
       "      <th>like</th>\n",
       "      <td>2245</td>\n",
       "    </tr>\n",
       "    <tr>\n",
       "      <th>would</th>\n",
       "      <td>1826</td>\n",
       "    </tr>\n",
       "    <tr>\n",
       "      <th>read</th>\n",
       "      <td>1615</td>\n",
       "    </tr>\n",
       "    <tr>\n",
       "      <th>get</th>\n",
       "      <td>1514</td>\n",
       "    </tr>\n",
       "    <tr>\n",
       "      <th>time</th>\n",
       "      <td>1491</td>\n",
       "    </tr>\n",
       "    <tr>\n",
       "      <th>really</th>\n",
       "      <td>1320</td>\n",
       "    </tr>\n",
       "  </tbody>\n",
       "</table>\n",
       "</div>"
      ],
      "text/plain": [
       "        freq\n",
       "book    4389\n",
       "one     3070\n",
       "great   2379\n",
       "good    2298\n",
       "like    2245\n",
       "would   1826\n",
       "read    1615\n",
       "get     1514\n",
       "time    1491\n",
       "really  1320"
      ]
     },
     "execution_count": 36,
     "metadata": {},
     "output_type": "execute_result"
    }
   ],
   "source": [
    "freq_df.head(10)"
   ]
  },
  {
   "cell_type": "code",
   "execution_count": 37,
   "id": "0182200c",
   "metadata": {},
   "outputs": [
    {
     "data": {
      "text/plain": [
       "0       [rose, dawson, malaysia, must, buy, album, let...\n",
       "1       [precious, resource, christian, contemplation,...\n",
       "2       [rename, redsox, yankees, giants, always, trus...\n",
       "3       [boring, game, based, great, concept, falls, s...\n",
       "4       [lost, 70, eurovision, song, contest, come, go...\n",
       "                              ...                        \n",
       "7995    [helpful, although, gram, index, tone, arm, he...\n",
       "7996    [scratched, cd, got, cd, played, already, scra...\n",
       "7997    [words, great, insight, intrigued, title, book...\n",
       "7998    [get, pay, bought, reading, 2, reviews, ecom, ...\n",
       "7999    [really, cool, easy, use, third, digital, came...\n",
       "Name: tokens, Length: 8000, dtype: object"
      ]
     },
     "execution_count": 37,
     "metadata": {},
     "output_type": "execute_result"
    }
   ],
   "source": [
    "df['tokens']"
   ]
  },
  {
   "cell_type": "code",
   "execution_count": 38,
   "id": "eb403ae4",
   "metadata": {},
   "outputs": [
    {
     "data": {
      "image/png": "[encoded data removed]",
      "text/plain": [
       "<Figure size 432x288 with 1 Axes>"
      ]
     },
     "metadata": {
      "needs_background": "light"
     },
     "output_type": "display_data"
    }
   ],
   "source": [
    "ax=freq_df.head(10).plot(kind='barh')\n",
    "ax.invert_yaxis()"
   ]
  },
  {
   "cell_type": "code",
   "execution_count": null,
   "id": "1457917f",
   "metadata": {},
   "outputs": [],
   "source": []
  },
  {
   "cell_type": "code",
   "execution_count": 39,
   "id": "58e22401",
   "metadata": {},
   "outputs": [],
   "source": [
    "def wordcloud(word_freq, title=None, max_words=200,stopwords=None):\n",
    "    wc = WordCloud(max_font_size=200, max_words=max_words)\n",
    "   \n",
    "    if type(word_freq) == pd.Series:\n",
    "        counter = Counter(word_freq.fillna(0).to_dict())\n",
    "    else:\n",
    "        counter = word_freq\n",
    "  \n",
    "    if stopwords is not None:\n",
    "        counter = {token:freq for (token, freq) in counter.items() if token not in stopwords}\n",
    "    wc.generate_from_frequencies(counter)\n",
    "    plt.title(title)\n",
    "    plt.imshow(wc)\n",
    "    plt.axis(\"off\")"
   ]
  },
  {
   "cell_type": "code",
   "execution_count": 40,
   "id": "823b8dd0",
   "metadata": {},
   "outputs": [
    {
     "data": {
      "image/png": "[encoded data removed]",
      "text/plain": [
       "<Figure size 432x288 with 1 Axes>"
      ]
     },
     "metadata": {
      "needs_background": "light"
     },
     "output_type": "display_data"
    }
   ],
   "source": [
    "freq_label_df = count_words(df[df['labels']=='__label__1'])\n",
    "plt.figure()\n",
    "wordcloud(freq_label_df['freq'], max_words=100)"
   ]
  },
  {
   "cell_type": "code",
   "execution_count": 41,
   "id": "8140f9a0",
   "metadata": {},
   "outputs": [
    {
     "data": {
      "text/html": [
       "<div>\n",
       "<style scoped>\n",
       "    .dataframe tbody tr th:only-of-type {\n",
       "        vertical-align: middle;\n",
       "    }\n",
       "\n",
       "    .dataframe tbody tr th {\n",
       "        vertical-align: top;\n",
       "    }\n",
       "\n",
       "    .dataframe thead th {\n",
       "        text-align: right;\n",
       "    }\n",
       "</style>\n",
       "<table border=\"1\" class=\"dataframe\">\n",
       "  <thead>\n",
       "    <tr style=\"text-align: right;\">\n",
       "      <th></th>\n",
       "      <th>freq</th>\n",
       "    </tr>\n",
       "  </thead>\n",
       "  <tbody>\n",
       "    <tr>\n",
       "      <th>book</th>\n",
       "      <td>2168</td>\n",
       "    </tr>\n",
       "    <tr>\n",
       "      <th>one</th>\n",
       "      <td>1541</td>\n",
       "    </tr>\n",
       "    <tr>\n",
       "      <th>like</th>\n",
       "      <td>1167</td>\n",
       "    </tr>\n",
       "    <tr>\n",
       "      <th>would</th>\n",
       "      <td>1108</td>\n",
       "    </tr>\n",
       "    <tr>\n",
       "      <th>good</th>\n",
       "      <td>973</td>\n",
       "    </tr>\n",
       "    <tr>\n",
       "      <th>...</th>\n",
       "      <td>...</td>\n",
       "    </tr>\n",
       "    <tr>\n",
       "      <th>jason</th>\n",
       "      <td>3</td>\n",
       "    </tr>\n",
       "    <tr>\n",
       "      <th>beggining</th>\n",
       "      <td>3</td>\n",
       "    </tr>\n",
       "    <tr>\n",
       "      <th>competent</th>\n",
       "      <td>3</td>\n",
       "    </tr>\n",
       "    <tr>\n",
       "      <th>unstable</th>\n",
       "      <td>3</td>\n",
       "    </tr>\n",
       "    <tr>\n",
       "      <th>terrier</th>\n",
       "      <td>3</td>\n",
       "    </tr>\n",
       "  </tbody>\n",
       "</table>\n",
       "<p>7199 rows × 1 columns</p>\n",
       "</div>"
      ],
      "text/plain": [
       "           freq\n",
       "book       2168\n",
       "one        1541\n",
       "like       1167\n",
       "would      1108\n",
       "good        973\n",
       "...         ...\n",
       "jason         3\n",
       "beggining     3\n",
       "competent     3\n",
       "unstable      3\n",
       "terrier       3\n",
       "\n",
       "[7199 rows x 1 columns]"
      ]
     },
     "execution_count": 41,
     "metadata": {},
     "output_type": "execute_result"
    }
   ],
   "source": [
    "freq_label_df"
   ]
  },
  {
   "cell_type": "code",
   "execution_count": 42,
   "id": "7d5138c7",
   "metadata": {},
   "outputs": [
    {
     "data": {
      "image/png": "[encoded data removed]",
      "text/plain": [
       "<Figure size 432x288 with 1 Axes>"
      ]
     },
     "metadata": {
      "needs_background": "light"
     },
     "output_type": "display_data"
    }
   ],
   "source": [
    "wordcloud(freq_label_df['freq'],max_words=100,stopwords=freq_label_df.head(30).index)"
   ]
  },
  {
   "cell_type": "code",
   "execution_count": null,
   "id": "9d5489b5",
   "metadata": {},
   "outputs": [],
   "source": []
  },
  {
   "cell_type": "markdown",
   "id": "366dc2d6",
   "metadata": {},
   "source": [
    "#  tf-idf"
   ]
  },
  {
   "cell_type": "code",
   "execution_count": 43,
   "id": "83cdd7b7",
   "metadata": {},
   "outputs": [],
   "source": [
    "def compute_idf(df,column = 'tokens', preprocess = None, min_df=2):\n",
    "    def update(doc):\n",
    "        tokens = doc if preprocess is None else preprocess(doc)\n",
    "        counter.update(set(tokens))\n",
    "    counter = Counter()           # we just creating counter\n",
    "    df[column].apply(update)\n",
    "    \n",
    "    idf_df = pd.DataFrame.from_dict(counter,orient = 'index', columns=['df'])# df-total no of doucments\n",
    "    \n",
    "    idf_df = idf_df.query('df>@min_df')\n",
    "    idf_df['idf'] = np.log(len(df)/idf_df['df'])+0.1\n",
    "    freq_df.index.name = 'token'\n",
    "    return idf_df.sort_values(by='df',ascending=False)"
   ]
  },
  {
   "cell_type": "code",
   "execution_count": 44,
   "id": "4c16e4f7",
   "metadata": {},
   "outputs": [
    {
     "name": "stderr",
     "output_type": "stream",
     "text": [
      "C:\\Users\\Admin\\AppData\\Local\\Temp\\ipykernel_18508\\1155663264.py:11: SettingWithCopyWarning: \n",
      "A value is trying to be set on a copy of a slice from a DataFrame.\n",
      "Try using .loc[row_indexer,col_indexer] = value instead\n",
      "\n",
      "See the caveats in the documentation: https://pandas.pydata.org/pandas-docs/stable/user_guide/indexing.html#returning-a-view-versus-a-copy\n",
      "  idf_df['idf'] = np.log(len(df)/idf_df['df'])+0.1\n"
     ]
    }
   ],
   "source": [
    "idf_df=compute_idf(df)"
   ]
  },
  {
   "cell_type": "code",
   "execution_count": 45,
   "id": "fb7f32a2",
   "metadata": {},
   "outputs": [
    {
     "data": {
      "text/html": [
       "<div>\n",
       "<style scoped>\n",
       "    .dataframe tbody tr th:only-of-type {\n",
       "        vertical-align: middle;\n",
       "    }\n",
       "\n",
       "    .dataframe tbody tr th {\n",
       "        vertical-align: top;\n",
       "    }\n",
       "\n",
       "    .dataframe thead th {\n",
       "        text-align: right;\n",
       "    }\n",
       "</style>\n",
       "<table border=\"1\" class=\"dataframe\">\n",
       "  <thead>\n",
       "    <tr style=\"text-align: right;\">\n",
       "      <th></th>\n",
       "      <th>df</th>\n",
       "      <th>idf</th>\n",
       "    </tr>\n",
       "  </thead>\n",
       "  <tbody>\n",
       "    <tr>\n",
       "      <th>one</th>\n",
       "      <td>2279</td>\n",
       "      <td>1.355705</td>\n",
       "    </tr>\n",
       "    <tr>\n",
       "      <th>book</th>\n",
       "      <td>2049</td>\n",
       "      <td>1.462090</td>\n",
       "    </tr>\n",
       "    <tr>\n",
       "      <th>great</th>\n",
       "      <td>1769</td>\n",
       "      <td>1.609027</td>\n",
       "    </tr>\n",
       "    <tr>\n",
       "      <th>good</th>\n",
       "      <td>1749</td>\n",
       "      <td>1.620397</td>\n",
       "    </tr>\n",
       "    <tr>\n",
       "      <th>like</th>\n",
       "      <td>1704</td>\n",
       "      <td>1.646463</td>\n",
       "    </tr>\n",
       "    <tr>\n",
       "      <th>...</th>\n",
       "      <td>...</td>\n",
       "      <td>...</td>\n",
       "    </tr>\n",
       "    <tr>\n",
       "      <th>openly</th>\n",
       "      <td>3</td>\n",
       "      <td>7.988585</td>\n",
       "    </tr>\n",
       "    <tr>\n",
       "      <th>guessed</th>\n",
       "      <td>3</td>\n",
       "      <td>7.988585</td>\n",
       "    </tr>\n",
       "    <tr>\n",
       "      <th>karate</th>\n",
       "      <td>3</td>\n",
       "      <td>7.988585</td>\n",
       "    </tr>\n",
       "    <tr>\n",
       "      <th>rooting</th>\n",
       "      <td>3</td>\n",
       "      <td>7.988585</td>\n",
       "    </tr>\n",
       "    <tr>\n",
       "      <th>retriever</th>\n",
       "      <td>3</td>\n",
       "      <td>7.988585</td>\n",
       "    </tr>\n",
       "  </tbody>\n",
       "</table>\n",
       "<p>9963 rows × 2 columns</p>\n",
       "</div>"
      ],
      "text/plain": [
       "             df       idf\n",
       "one        2279  1.355705\n",
       "book       2049  1.462090\n",
       "great      1769  1.609027\n",
       "good       1749  1.620397\n",
       "like       1704  1.646463\n",
       "...         ...       ...\n",
       "openly        3  7.988585\n",
       "guessed       3  7.988585\n",
       "karate        3  7.988585\n",
       "rooting       3  7.988585\n",
       "retriever     3  7.988585\n",
       "\n",
       "[9963 rows x 2 columns]"
      ]
     },
     "execution_count": 45,
     "metadata": {},
     "output_type": "execute_result"
    }
   ],
   "source": [
    "idf_df"
   ]
  },
  {
   "cell_type": "code",
   "execution_count": 46,
   "id": "1a8f21b6",
   "metadata": {},
   "outputs": [
    {
     "data": {
      "text/html": [
       "<div>\n",
       "<style scoped>\n",
       "    .dataframe tbody tr th:only-of-type {\n",
       "        vertical-align: middle;\n",
       "    }\n",
       "\n",
       "    .dataframe tbody tr th {\n",
       "        vertical-align: top;\n",
       "    }\n",
       "\n",
       "    .dataframe thead th {\n",
       "        text-align: right;\n",
       "    }\n",
       "</style>\n",
       "<table border=\"1\" class=\"dataframe\">\n",
       "  <thead>\n",
       "    <tr style=\"text-align: right;\">\n",
       "      <th></th>\n",
       "      <th>df</th>\n",
       "      <th>idf</th>\n",
       "    </tr>\n",
       "  </thead>\n",
       "  <tbody>\n",
       "    <tr>\n",
       "      <th>retriever</th>\n",
       "      <td>3</td>\n",
       "      <td>7.988585</td>\n",
       "    </tr>\n",
       "    <tr>\n",
       "      <th>philip</th>\n",
       "      <td>3</td>\n",
       "      <td>7.988585</td>\n",
       "    </tr>\n",
       "    <tr>\n",
       "      <th>cranked</th>\n",
       "      <td>3</td>\n",
       "      <td>7.988585</td>\n",
       "    </tr>\n",
       "    <tr>\n",
       "      <th>appetizer</th>\n",
       "      <td>3</td>\n",
       "      <td>7.988585</td>\n",
       "    </tr>\n",
       "    <tr>\n",
       "      <th>brandon</th>\n",
       "      <td>3</td>\n",
       "      <td>7.988585</td>\n",
       "    </tr>\n",
       "    <tr>\n",
       "      <th>...</th>\n",
       "      <td>...</td>\n",
       "      <td>...</td>\n",
       "    </tr>\n",
       "    <tr>\n",
       "      <th>like</th>\n",
       "      <td>1704</td>\n",
       "      <td>1.646463</td>\n",
       "    </tr>\n",
       "    <tr>\n",
       "      <th>good</th>\n",
       "      <td>1749</td>\n",
       "      <td>1.620397</td>\n",
       "    </tr>\n",
       "    <tr>\n",
       "      <th>great</th>\n",
       "      <td>1769</td>\n",
       "      <td>1.609027</td>\n",
       "    </tr>\n",
       "    <tr>\n",
       "      <th>book</th>\n",
       "      <td>2049</td>\n",
       "      <td>1.462090</td>\n",
       "    </tr>\n",
       "    <tr>\n",
       "      <th>one</th>\n",
       "      <td>2279</td>\n",
       "      <td>1.355705</td>\n",
       "    </tr>\n",
       "  </tbody>\n",
       "</table>\n",
       "<p>9963 rows × 2 columns</p>\n",
       "</div>"
      ],
      "text/plain": [
       "             df       idf\n",
       "retriever     3  7.988585\n",
       "philip        3  7.988585\n",
       "cranked       3  7.988585\n",
       "appetizer     3  7.988585\n",
       "brandon       3  7.988585\n",
       "...         ...       ...\n",
       "like       1704  1.646463\n",
       "good       1749  1.620397\n",
       "great      1769  1.609027\n",
       "book       2049  1.462090\n",
       "one        2279  1.355705\n",
       "\n",
       "[9963 rows x 2 columns]"
      ]
     },
     "execution_count": 46,
     "metadata": {},
     "output_type": "execute_result"
    }
   ],
   "source": [
    "idf_df.sort_values('idf',ascending = False)"
   ]
  },
  {
   "cell_type": "code",
   "execution_count": 47,
   "id": "dcb21d8b",
   "metadata": {},
   "outputs": [],
   "source": [
    "freq_df['tfidf'] = freq_df ['freq']*idf_df['idf']"
   ]
  },
  {
   "cell_type": "code",
   "execution_count": 48,
   "id": "dd505924",
   "metadata": {},
   "outputs": [
    {
     "data": {
      "text/html": [
       "<div>\n",
       "<style scoped>\n",
       "    .dataframe tbody tr th:only-of-type {\n",
       "        vertical-align: middle;\n",
       "    }\n",
       "\n",
       "    .dataframe tbody tr th {\n",
       "        vertical-align: top;\n",
       "    }\n",
       "\n",
       "    .dataframe thead th {\n",
       "        text-align: right;\n",
       "    }\n",
       "</style>\n",
       "<table border=\"1\" class=\"dataframe\">\n",
       "  <thead>\n",
       "    <tr style=\"text-align: right;\">\n",
       "      <th></th>\n",
       "      <th>freq</th>\n",
       "      <th>tfidf</th>\n",
       "    </tr>\n",
       "    <tr>\n",
       "      <th>token</th>\n",
       "      <th></th>\n",
       "      <th></th>\n",
       "    </tr>\n",
       "  </thead>\n",
       "  <tbody>\n",
       "    <tr>\n",
       "      <th>storylines</th>\n",
       "      <td>3</td>\n",
       "      <td>23.965754</td>\n",
       "    </tr>\n",
       "    <tr>\n",
       "      <th>salvation</th>\n",
       "      <td>3</td>\n",
       "      <td>23.965754</td>\n",
       "    </tr>\n",
       "    <tr>\n",
       "      <th>doggie</th>\n",
       "      <td>3</td>\n",
       "      <td>23.965754</td>\n",
       "    </tr>\n",
       "    <tr>\n",
       "      <th>inappropriate</th>\n",
       "      <td>3</td>\n",
       "      <td>23.965754</td>\n",
       "    </tr>\n",
       "    <tr>\n",
       "      <th>unsatisfying</th>\n",
       "      <td>3</td>\n",
       "      <td>23.965754</td>\n",
       "    </tr>\n",
       "    <tr>\n",
       "      <th>...</th>\n",
       "      <td>...</td>\n",
       "      <td>...</td>\n",
       "    </tr>\n",
       "    <tr>\n",
       "      <th>cubic</th>\n",
       "      <td>3</td>\n",
       "      <td>NaN</td>\n",
       "    </tr>\n",
       "    <tr>\n",
       "      <th>lather</th>\n",
       "      <td>3</td>\n",
       "      <td>NaN</td>\n",
       "    </tr>\n",
       "    <tr>\n",
       "      <th>shrink</th>\n",
       "      <td>3</td>\n",
       "      <td>NaN</td>\n",
       "    </tr>\n",
       "    <tr>\n",
       "      <th>sickness</th>\n",
       "      <td>3</td>\n",
       "      <td>NaN</td>\n",
       "    </tr>\n",
       "    <tr>\n",
       "      <th>revival</th>\n",
       "      <td>3</td>\n",
       "      <td>NaN</td>\n",
       "    </tr>\n",
       "  </tbody>\n",
       "</table>\n",
       "<p>11123 rows × 2 columns</p>\n",
       "</div>"
      ],
      "text/plain": [
       "               freq      tfidf\n",
       "token                         \n",
       "storylines        3  23.965754\n",
       "salvation         3  23.965754\n",
       "doggie            3  23.965754\n",
       "inappropriate     3  23.965754\n",
       "unsatisfying      3  23.965754\n",
       "...             ...        ...\n",
       "cubic             3        NaN\n",
       "lather            3        NaN\n",
       "shrink            3        NaN\n",
       "sickness          3        NaN\n",
       "revival           3        NaN\n",
       "\n",
       "[11123 rows x 2 columns]"
      ]
     },
     "execution_count": 48,
     "metadata": {},
     "output_type": "execute_result"
    }
   ],
   "source": [
    "freq_df.sort_values(by='tfidf')"
   ]
  },
  {
   "cell_type": "code",
   "execution_count": 49,
   "id": "5cbc977c",
   "metadata": {},
   "outputs": [
    {
     "data": {
      "image/png": "[encoded data removed]",
      "text/plain": [
       "<Figure size 432x288 with 1 Axes>"
      ]
     },
     "metadata": {
      "needs_background": "light"
     },
     "output_type": "display_data"
    }
   ],
   "source": [
    "freq_label_df=count_words(df[df['labels']=='__label__1'])\n",
    "freq_label_df=count_words(df[df['labels']=='__label__1'])\n",
    "\n",
    "\n",
    "freq_label_df['tfidf']=freq_label_df['freq']*idf_df['idf']\n",
    "freq_label_df['tfidf']=freq_label_df['freq']*idf_df['idf']\n",
    "\n",
    "\n",
    "wordcloud(freq_df['freq'],title='reviews')"
   ]
  },
  {
   "cell_type": "code",
   "execution_count": 50,
   "id": "69053e25",
   "metadata": {},
   "outputs": [
    {
     "data": {
      "image/png": "[encoded data removed]",
      "text/plain": [
       "<Figure size 432x288 with 1 Axes>"
      ]
     },
     "metadata": {
      "needs_background": "light"
     },
     "output_type": "display_data"
    }
   ],
   "source": [
    "wordcloud(freq_label_df['freq'],title ='labels - TF')"
   ]
  },
  {
   "cell_type": "code",
   "execution_count": 51,
   "id": "6cd8d5b1",
   "metadata": {},
   "outputs": [
    {
     "data": {
      "image/png": "[encoded data removed]",
      "text/plain": [
       "<Figure size 432x288 with 1 Axes>"
      ]
     },
     "metadata": {
      "needs_background": "light"
     },
     "output_type": "display_data"
    }
   ],
   "source": [
    "wordcloud(freq_label_df['tfidf'],title ='labels - TF-IDF')"
   ]
  },
  {
   "cell_type": "code",
   "execution_count": null,
   "id": "545e44b9",
   "metadata": {},
   "outputs": [],
   "source": []
  },
  {
   "cell_type": "markdown",
   "id": "d57c9bf8",
   "metadata": {},
   "source": [
    "# bigrams"
   ]
  },
  {
   "cell_type": "code",
   "execution_count": 52,
   "id": "93661bd1",
   "metadata": {},
   "outputs": [],
   "source": [
    "def ngrams(tokens, n=2, sep=' ',stopwords=stop_words):\n",
    "    return[sep.join(ngram) for ngram in zip(*[tokens[i:] for i in range(n)]) if len([t for t in ngram if t in stop_words])==0]"
   ]
  },
  {
   "cell_type": "code",
   "execution_count": 53,
   "id": "3f055f15",
   "metadata": {},
   "outputs": [],
   "source": [
    "df['bigrams'] = df['text'].apply(prepare,pipeline=[str.lower,tokenize])\\\n",
    ".apply(ngrams,n=2,stopwords=stop_words)"
   ]
  },
  {
   "cell_type": "code",
   "execution_count": 54,
   "id": "fa84b24c",
   "metadata": {},
   "outputs": [
    {
     "name": "stderr",
     "output_type": "stream",
     "text": [
      "C:\\Users\\Admin\\AppData\\Local\\Temp\\ipykernel_18508\\1155663264.py:11: SettingWithCopyWarning: \n",
      "A value is trying to be set on a copy of a slice from a DataFrame.\n",
      "Try using .loc[row_indexer,col_indexer] = value instead\n",
      "\n",
      "See the caveats in the documentation: https://pandas.pydata.org/pandas-docs/stable/user_guide/indexing.html#returning-a-view-versus-a-copy\n",
      "  idf_df['idf'] = np.log(len(df)/idf_df['df'])+0.1\n"
     ]
    }
   ],
   "source": [
    "idf_df_bigram = compute_idf(df,column = 'bigrams',min_df=10)"
   ]
  },
  {
   "cell_type": "code",
   "execution_count": 55,
   "id": "e4226212",
   "metadata": {},
   "outputs": [
    {
     "data": {
      "text/html": [
       "<div>\n",
       "<style scoped>\n",
       "    .dataframe tbody tr th:only-of-type {\n",
       "        vertical-align: middle;\n",
       "    }\n",
       "\n",
       "    .dataframe tbody tr th {\n",
       "        vertical-align: top;\n",
       "    }\n",
       "\n",
       "    .dataframe thead th {\n",
       "        text-align: right;\n",
       "    }\n",
       "</style>\n",
       "<table border=\"1\" class=\"dataframe\">\n",
       "  <thead>\n",
       "    <tr style=\"text-align: right;\">\n",
       "      <th></th>\n",
       "      <th>df</th>\n",
       "      <th>idf</th>\n",
       "    </tr>\n",
       "  </thead>\n",
       "  <tbody>\n",
       "    <tr>\n",
       "      <th>year old</th>\n",
       "      <td>148</td>\n",
       "      <td>4.089985</td>\n",
       "    </tr>\n",
       "    <tr>\n",
       "      <th>highly recommend</th>\n",
       "      <td>128</td>\n",
       "      <td>4.235167</td>\n",
       "    </tr>\n",
       "    <tr>\n",
       "      <th>much better</th>\n",
       "      <td>127</td>\n",
       "      <td>4.243010</td>\n",
       "    </tr>\n",
       "    <tr>\n",
       "      <th>even though</th>\n",
       "      <td>103</td>\n",
       "      <td>4.452468</td>\n",
       "    </tr>\n",
       "    <tr>\n",
       "      <th>great book</th>\n",
       "      <td>98</td>\n",
       "      <td>4.502229</td>\n",
       "    </tr>\n",
       "    <tr>\n",
       "      <th>...</th>\n",
       "      <td>...</td>\n",
       "      <td>...</td>\n",
       "    </tr>\n",
       "    <tr>\n",
       "      <th>might want</th>\n",
       "      <td>11</td>\n",
       "      <td>6.689302</td>\n",
       "    </tr>\n",
       "    <tr>\n",
       "      <th>go buy</th>\n",
       "      <td>11</td>\n",
       "      <td>6.689302</td>\n",
       "    </tr>\n",
       "    <tr>\n",
       "      <th>nice book</th>\n",
       "      <td>11</td>\n",
       "      <td>6.689302</td>\n",
       "    </tr>\n",
       "    <tr>\n",
       "      <th>pretty well</th>\n",
       "      <td>11</td>\n",
       "      <td>6.689302</td>\n",
       "    </tr>\n",
       "    <tr>\n",
       "      <th>liner notes</th>\n",
       "      <td>11</td>\n",
       "      <td>6.689302</td>\n",
       "    </tr>\n",
       "  </tbody>\n",
       "</table>\n",
       "<p>470 rows × 2 columns</p>\n",
       "</div>"
      ],
      "text/plain": [
       "                   df       idf\n",
       "year old          148  4.089985\n",
       "highly recommend  128  4.235167\n",
       "much better       127  4.243010\n",
       "even though       103  4.452468\n",
       "great book         98  4.502229\n",
       "...               ...       ...\n",
       "might want         11  6.689302\n",
       "go buy             11  6.689302\n",
       "nice book          11  6.689302\n",
       "pretty well        11  6.689302\n",
       "liner notes        11  6.689302\n",
       "\n",
       "[470 rows x 2 columns]"
      ]
     },
     "execution_count": 55,
     "metadata": {},
     "output_type": "execute_result"
    }
   ],
   "source": [
    "idf_df_bigram"
   ]
  },
  {
   "cell_type": "code",
   "execution_count": 56,
   "id": "2eb6d527",
   "metadata": {},
   "outputs": [],
   "source": [
    "freq_df_label_bigrams = count_words(df[df['labels']=='__label__1'],column='bigrams')"
   ]
  },
  {
   "cell_type": "code",
   "execution_count": 57,
   "id": "76d648a7",
   "metadata": {},
   "outputs": [
    {
     "data": {
      "text/html": [
       "<div>\n",
       "<style scoped>\n",
       "    .dataframe tbody tr th:only-of-type {\n",
       "        vertical-align: middle;\n",
       "    }\n",
       "\n",
       "    .dataframe tbody tr th {\n",
       "        vertical-align: top;\n",
       "    }\n",
       "\n",
       "    .dataframe thead th {\n",
       "        text-align: right;\n",
       "    }\n",
       "</style>\n",
       "<table border=\"1\" class=\"dataframe\">\n",
       "  <thead>\n",
       "    <tr style=\"text-align: right;\">\n",
       "      <th></th>\n",
       "      <th>freq</th>\n",
       "    </tr>\n",
       "  </thead>\n",
       "  <tbody>\n",
       "    <tr>\n",
       "      <th>much better</th>\n",
       "      <td>77</td>\n",
       "    </tr>\n",
       "    <tr>\n",
       "      <th>year old</th>\n",
       "      <td>63</td>\n",
       "    </tr>\n",
       "    <tr>\n",
       "      <th>even though</th>\n",
       "      <td>52</td>\n",
       "    </tr>\n",
       "    <tr>\n",
       "      <th>one star</th>\n",
       "      <td>48</td>\n",
       "    </tr>\n",
       "    <tr>\n",
       "      <th>poor quality</th>\n",
       "      <td>48</td>\n",
       "    </tr>\n",
       "    <tr>\n",
       "      <th>...</th>\n",
       "      <td>...</td>\n",
       "    </tr>\n",
       "    <tr>\n",
       "      <th>law order</th>\n",
       "      <td>3</td>\n",
       "    </tr>\n",
       "    <tr>\n",
       "      <th>go somewhere</th>\n",
       "      <td>3</td>\n",
       "    </tr>\n",
       "    <tr>\n",
       "      <th>would come</th>\n",
       "      <td>3</td>\n",
       "    </tr>\n",
       "    <tr>\n",
       "      <th>one unless</th>\n",
       "      <td>3</td>\n",
       "    </tr>\n",
       "    <tr>\n",
       "      <th>manufactured home</th>\n",
       "      <td>3</td>\n",
       "    </tr>\n",
       "  </tbody>\n",
       "</table>\n",
       "<p>2181 rows × 1 columns</p>\n",
       "</div>"
      ],
      "text/plain": [
       "                   freq\n",
       "much better          77\n",
       "year old             63\n",
       "even though          52\n",
       "one star             48\n",
       "poor quality         48\n",
       "...                 ...\n",
       "law order             3\n",
       "go somewhere          3\n",
       "would come            3\n",
       "one unless            3\n",
       "manufactured home     3\n",
       "\n",
       "[2181 rows x 1 columns]"
      ]
     },
     "execution_count": 57,
     "metadata": {},
     "output_type": "execute_result"
    }
   ],
   "source": [
    "freq_df_label_bigrams"
   ]
  },
  {
   "cell_type": "code",
   "execution_count": 58,
   "id": "fef66e7d",
   "metadata": {},
   "outputs": [],
   "source": [
    "df['trigrams'] = df['text'].apply(prepare,pipeline=[str.lower,tokenize])\\\n",
    ".apply(ngrams,n=3,stopwords=stop_words)"
   ]
  },
  {
   "cell_type": "code",
   "execution_count": 59,
   "id": "f0887921",
   "metadata": {},
   "outputs": [
    {
     "name": "stderr",
     "output_type": "stream",
     "text": [
      "C:\\Users\\Admin\\AppData\\Local\\Temp\\ipykernel_18508\\1155663264.py:11: SettingWithCopyWarning: \n",
      "A value is trying to be set on a copy of a slice from a DataFrame.\n",
      "Try using .loc[row_indexer,col_indexer] = value instead\n",
      "\n",
      "See the caveats in the documentation: https://pandas.pydata.org/pandas-docs/stable/user_guide/indexing.html#returning-a-view-versus-a-copy\n",
      "  idf_df['idf'] = np.log(len(df)/idf_df['df'])+0.1\n"
     ]
    }
   ],
   "source": [
    "idf_df_trigram = compute_idf(df,column = 'trigrams',min_df=10)"
   ]
  },
  {
   "cell_type": "code",
   "execution_count": 60,
   "id": "27a61d76",
   "metadata": {},
   "outputs": [
    {
     "data": {
      "text/html": [
       "<div>\n",
       "<style scoped>\n",
       "    .dataframe tbody tr th:only-of-type {\n",
       "        vertical-align: middle;\n",
       "    }\n",
       "\n",
       "    .dataframe tbody tr th {\n",
       "        vertical-align: top;\n",
       "    }\n",
       "\n",
       "    .dataframe thead th {\n",
       "        text-align: right;\n",
       "    }\n",
       "</style>\n",
       "<table border=\"1\" class=\"dataframe\">\n",
       "  <thead>\n",
       "    <tr style=\"text-align: right;\">\n",
       "      <th></th>\n",
       "      <th>df</th>\n",
       "      <th>idf</th>\n",
       "    </tr>\n",
       "  </thead>\n",
       "  <tbody>\n",
       "    <tr>\n",
       "      <th>would highly recommend</th>\n",
       "      <td>23</td>\n",
       "      <td>5.951703</td>\n",
       "    </tr>\n",
       "    <tr>\n",
       "      <th>year old son</th>\n",
       "      <td>21</td>\n",
       "      <td>6.042674</td>\n",
       "    </tr>\n",
       "    <tr>\n",
       "      <th>2 year old</th>\n",
       "      <td>17</td>\n",
       "      <td>6.253983</td>\n",
       "    </tr>\n",
       "    <tr>\n",
       "      <th>5 year old</th>\n",
       "      <td>16</td>\n",
       "      <td>6.314608</td>\n",
       "    </tr>\n",
       "    <tr>\n",
       "      <th>worth every penny</th>\n",
       "      <td>16</td>\n",
       "      <td>6.314608</td>\n",
       "    </tr>\n",
       "    <tr>\n",
       "      <th>3 year old</th>\n",
       "      <td>13</td>\n",
       "      <td>6.522247</td>\n",
       "    </tr>\n",
       "    <tr>\n",
       "      <th>4 year old</th>\n",
       "      <td>13</td>\n",
       "      <td>6.522247</td>\n",
       "    </tr>\n",
       "    <tr>\n",
       "      <th>year old daughter</th>\n",
       "      <td>12</td>\n",
       "      <td>6.602290</td>\n",
       "    </tr>\n",
       "    <tr>\n",
       "      <th>buy another one</th>\n",
       "      <td>11</td>\n",
       "      <td>6.689302</td>\n",
       "    </tr>\n",
       "    <tr>\n",
       "      <th>2 1 2</th>\n",
       "      <td>11</td>\n",
       "      <td>6.689302</td>\n",
       "    </tr>\n",
       "    <tr>\n",
       "      <th>would definitely recommend</th>\n",
       "      <td>11</td>\n",
       "      <td>6.689302</td>\n",
       "    </tr>\n",
       "  </tbody>\n",
       "</table>\n",
       "</div>"
      ],
      "text/plain": [
       "                            df       idf\n",
       "would highly recommend      23  5.951703\n",
       "year old son                21  6.042674\n",
       "2 year old                  17  6.253983\n",
       "5 year old                  16  6.314608\n",
       "worth every penny           16  6.314608\n",
       "3 year old                  13  6.522247\n",
       "4 year old                  13  6.522247\n",
       "year old daughter           12  6.602290\n",
       "buy another one             11  6.689302\n",
       "2 1 2                       11  6.689302\n",
       "would definitely recommend  11  6.689302"
      ]
     },
     "execution_count": 60,
     "metadata": {},
     "output_type": "execute_result"
    }
   ],
   "source": [
    "idf_df_trigram"
   ]
  },
  {
   "cell_type": "code",
   "execution_count": 61,
   "id": "d8bbba58",
   "metadata": {},
   "outputs": [],
   "source": [
    "freq_df_label_trigrams = count_words(df[df['labels']=='__label__1'],column='trigrams')"
   ]
  },
  {
   "cell_type": "code",
   "execution_count": 62,
   "id": "78af9571",
   "metadata": {},
   "outputs": [
    {
     "data": {
      "text/html": [
       "<div>\n",
       "<style scoped>\n",
       "    .dataframe tbody tr th:only-of-type {\n",
       "        vertical-align: middle;\n",
       "    }\n",
       "\n",
       "    .dataframe tbody tr th {\n",
       "        vertical-align: top;\n",
       "    }\n",
       "\n",
       "    .dataframe thead th {\n",
       "        text-align: right;\n",
       "    }\n",
       "</style>\n",
       "<table border=\"1\" class=\"dataframe\">\n",
       "  <thead>\n",
       "    <tr style=\"text-align: right;\">\n",
       "      <th></th>\n",
       "      <th>freq</th>\n",
       "    </tr>\n",
       "  </thead>\n",
       "  <tbody>\n",
       "    <tr>\n",
       "      <th>year old son</th>\n",
       "      <td>8</td>\n",
       "    </tr>\n",
       "    <tr>\n",
       "      <th>never buy another</th>\n",
       "      <td>8</td>\n",
       "    </tr>\n",
       "    <tr>\n",
       "      <th>buy another one</th>\n",
       "      <td>8</td>\n",
       "    </tr>\n",
       "    <tr>\n",
       "      <th>really looking forward</th>\n",
       "      <td>8</td>\n",
       "    </tr>\n",
       "    <tr>\n",
       "      <th>2 year old</th>\n",
       "      <td>7</td>\n",
       "    </tr>\n",
       "    <tr>\n",
       "      <th>...</th>\n",
       "      <td>...</td>\n",
       "    </tr>\n",
       "    <tr>\n",
       "      <th>stay far away</th>\n",
       "      <td>3</td>\n",
       "    </tr>\n",
       "    <tr>\n",
       "      <th>platano records edition</th>\n",
       "      <td>3</td>\n",
       "    </tr>\n",
       "    <tr>\n",
       "      <th>much better book</th>\n",
       "      <td>3</td>\n",
       "    </tr>\n",
       "    <tr>\n",
       "      <th>partially hydrogenated soybean</th>\n",
       "      <td>3</td>\n",
       "    </tr>\n",
       "    <tr>\n",
       "      <th>192kbpsdolby digital audio</th>\n",
       "      <td>3</td>\n",
       "    </tr>\n",
       "  </tbody>\n",
       "</table>\n",
       "<p>91 rows × 1 columns</p>\n",
       "</div>"
      ],
      "text/plain": [
       "                                freq\n",
       "year old son                       8\n",
       "never buy another                  8\n",
       "buy another one                    8\n",
       "really looking forward             8\n",
       "2 year old                         7\n",
       "...                              ...\n",
       "stay far away                      3\n",
       "platano records edition            3\n",
       "much better book                   3\n",
       "partially hydrogenated soybean     3\n",
       "192kbpsdolby digital audio         3\n",
       "\n",
       "[91 rows x 1 columns]"
      ]
     },
     "execution_count": 62,
     "metadata": {},
     "output_type": "execute_result"
    }
   ],
   "source": [
    "freq_df_label_trigrams"
   ]
  },
  {
   "cell_type": "markdown",
   "id": "b1eaae5a",
   "metadata": {},
   "source": [
    "# concate unigrams and bigrams"
   ]
  },
  {
   "cell_type": "code",
   "execution_count": 63,
   "id": "3860fdaa",
   "metadata": {},
   "outputs": [],
   "source": [
    "freq_df_label_ngrams = pd.concat([freq_label_df,freq_df_label_bigrams,freq_df_label_trigrams])"
   ]
  },
  {
   "cell_type": "code",
   "execution_count": 64,
   "id": "786cb0fb",
   "metadata": {},
   "outputs": [
    {
     "data": {
      "text/html": [
       "<div>\n",
       "<style scoped>\n",
       "    .dataframe tbody tr th:only-of-type {\n",
       "        vertical-align: middle;\n",
       "    }\n",
       "\n",
       "    .dataframe tbody tr th {\n",
       "        vertical-align: top;\n",
       "    }\n",
       "\n",
       "    .dataframe thead th {\n",
       "        text-align: right;\n",
       "    }\n",
       "</style>\n",
       "<table border=\"1\" class=\"dataframe\">\n",
       "  <thead>\n",
       "    <tr style=\"text-align: right;\">\n",
       "      <th></th>\n",
       "      <th>freq</th>\n",
       "      <th>tfidf</th>\n",
       "    </tr>\n",
       "  </thead>\n",
       "  <tbody>\n",
       "    <tr>\n",
       "      <th>book</th>\n",
       "      <td>2168</td>\n",
       "      <td>3169.810410</td>\n",
       "    </tr>\n",
       "    <tr>\n",
       "      <th>one</th>\n",
       "      <td>1541</td>\n",
       "      <td>2089.141084</td>\n",
       "    </tr>\n",
       "    <tr>\n",
       "      <th>like</th>\n",
       "      <td>1167</td>\n",
       "      <td>1921.422453</td>\n",
       "    </tr>\n",
       "    <tr>\n",
       "      <th>would</th>\n",
       "      <td>1108</td>\n",
       "      <td>1972.977287</td>\n",
       "    </tr>\n",
       "    <tr>\n",
       "      <th>good</th>\n",
       "      <td>973</td>\n",
       "      <td>1576.646617</td>\n",
       "    </tr>\n",
       "    <tr>\n",
       "      <th>...</th>\n",
       "      <td>...</td>\n",
       "      <td>...</td>\n",
       "    </tr>\n",
       "    <tr>\n",
       "      <th>stay far away</th>\n",
       "      <td>3</td>\n",
       "      <td>NaN</td>\n",
       "    </tr>\n",
       "    <tr>\n",
       "      <th>platano records edition</th>\n",
       "      <td>3</td>\n",
       "      <td>NaN</td>\n",
       "    </tr>\n",
       "    <tr>\n",
       "      <th>much better book</th>\n",
       "      <td>3</td>\n",
       "      <td>NaN</td>\n",
       "    </tr>\n",
       "    <tr>\n",
       "      <th>partially hydrogenated soybean</th>\n",
       "      <td>3</td>\n",
       "      <td>NaN</td>\n",
       "    </tr>\n",
       "    <tr>\n",
       "      <th>192kbpsdolby digital audio</th>\n",
       "      <td>3</td>\n",
       "      <td>NaN</td>\n",
       "    </tr>\n",
       "  </tbody>\n",
       "</table>\n",
       "<p>9471 rows × 2 columns</p>\n",
       "</div>"
      ],
      "text/plain": [
       "                                freq        tfidf\n",
       "book                            2168  3169.810410\n",
       "one                             1541  2089.141084\n",
       "like                            1167  1921.422453\n",
       "would                           1108  1972.977287\n",
       "good                             973  1576.646617\n",
       "...                              ...          ...\n",
       "stay far away                      3          NaN\n",
       "platano records edition            3          NaN\n",
       "much better book                   3          NaN\n",
       "partially hydrogenated soybean     3          NaN\n",
       "192kbpsdolby digital audio         3          NaN\n",
       "\n",
       "[9471 rows x 2 columns]"
      ]
     },
     "execution_count": 64,
     "metadata": {},
     "output_type": "execute_result"
    }
   ],
   "source": [
    "freq_df_label_ngrams "
   ]
  },
  {
   "cell_type": "code",
   "execution_count": 65,
   "id": "78c010f8",
   "metadata": {},
   "outputs": [
    {
     "data": {
      "image/png": "[encoded data removed]",
      "text/plain": [
       "<Figure size 432x288 with 1 Axes>"
      ]
     },
     "metadata": {
      "needs_background": "light"
     },
     "output_type": "display_data"
    }
   ],
   "source": [
    "wordcloud(freq_df_label_ngrams['tfidf'],title='Label TF-IDF', stopwords = ['would','2','one','even','get','got'])"
   ]
  },
  {
   "cell_type": "code",
   "execution_count": null,
   "id": "c8980aa8",
   "metadata": {},
   "outputs": [],
   "source": []
  },
  {
   "cell_type": "markdown",
   "id": "ac514b1b",
   "metadata": {},
   "source": [
    "# Model building"
   ]
  },
  {
   "cell_type": "code",
   "execution_count": 70,
   "id": "656694a2",
   "metadata": {},
   "outputs": [],
   "source": [
    "from sklearn.model_selection import train_test_split"
   ]
  },
  {
   "cell_type": "code",
   "execution_count": 71,
   "id": "a5068a4b",
   "metadata": {},
   "outputs": [],
   "source": [
    "X_train,X_test,Y_train,Y_test = train_test_split(df['text'],\n",
    "                                                 df['labels'],\n",
    "                                                test_size =0.2,\n",
    "                                                random_state=42,\n",
    "                                                stratify=df['labels'])"
   ]
  },
  {
   "cell_type": "code",
   "execution_count": 72,
   "id": "824e015a",
   "metadata": {},
   "outputs": [
    {
     "data": {
      "text/plain": [
       "labels\n",
       "__label__2    800\n",
       "__label__1    800\n",
       "Name: count, dtype: int64"
      ]
     },
     "execution_count": 72,
     "metadata": {},
     "output_type": "execute_result"
    }
   ],
   "source": [
    "Y_test.value_counts()"
   ]
  },
  {
   "cell_type": "code",
   "execution_count": 73,
   "id": "49ed156c",
   "metadata": {},
   "outputs": [
    {
     "data": {
      "text/plain": [
       "labels\n",
       "__label__1    3202\n",
       "__label__2    3198\n",
       "Name: count, dtype: int64"
      ]
     },
     "execution_count": 73,
     "metadata": {},
     "output_type": "execute_result"
    }
   ],
   "source": [
    "Y_train.value_counts()"
   ]
  },
  {
   "cell_type": "code",
   "execution_count": 74,
   "id": "c8bf0111",
   "metadata": {},
   "outputs": [],
   "source": [
    "from sklearn.feature_extraction.text import CountVectorizer"
   ]
  },
  {
   "cell_type": "code",
   "execution_count": 75,
   "id": "0b502918",
   "metadata": {},
   "outputs": [],
   "source": [
    "bow = CountVectorizer(min_df= 10,ngram_range=(1,2),stop_words = 'english')"
   ]
  },
  {
   "cell_type": "code",
   "execution_count": 76,
   "id": "39c42768",
   "metadata": {},
   "outputs": [],
   "source": [
    "X_train_bow = bow.fit_transform(X_train)"
   ]
  },
  {
   "cell_type": "code",
   "execution_count": 77,
   "id": "ef3ef755",
   "metadata": {},
   "outputs": [
    {
     "data": {
      "text/plain": [
       "array(['00', '10', '10 years', ..., 'zero', 'zero stars', 'zombie'],\n",
       "      dtype=object)"
      ]
     },
     "execution_count": 77,
     "metadata": {},
     "output_type": "execute_result"
    }
   ],
   "source": [
    "X_train_bow.todense()\n",
    "bow.get_feature_names_out()"
   ]
  },
  {
   "cell_type": "code",
   "execution_count": 78,
   "id": "45c02107",
   "metadata": {},
   "outputs": [
    {
     "data": {
      "text/html": [
       "<div>\n",
       "<style scoped>\n",
       "    .dataframe tbody tr th:only-of-type {\n",
       "        vertical-align: middle;\n",
       "    }\n",
       "\n",
       "    .dataframe tbody tr th {\n",
       "        vertical-align: top;\n",
       "    }\n",
       "\n",
       "    .dataframe thead th {\n",
       "        text-align: right;\n",
       "    }\n",
       "</style>\n",
       "<table border=\"1\" class=\"dataframe\">\n",
       "  <thead>\n",
       "    <tr style=\"text-align: right;\">\n",
       "      <th></th>\n",
       "      <th>00</th>\n",
       "      <th>10</th>\n",
       "      <th>10 years</th>\n",
       "      <th>100</th>\n",
       "      <th>11</th>\n",
       "      <th>12</th>\n",
       "      <th>13</th>\n",
       "      <th>14</th>\n",
       "      <th>15</th>\n",
       "      <th>150</th>\n",
       "      <th>...</th>\n",
       "      <th>young</th>\n",
       "      <th>younger</th>\n",
       "      <th>youth</th>\n",
       "      <th>yr</th>\n",
       "      <th>yr old</th>\n",
       "      <th>yrs</th>\n",
       "      <th>zen</th>\n",
       "      <th>zero</th>\n",
       "      <th>zero stars</th>\n",
       "      <th>zombie</th>\n",
       "    </tr>\n",
       "  </thead>\n",
       "  <tbody>\n",
       "    <tr>\n",
       "      <th>0</th>\n",
       "      <td>0</td>\n",
       "      <td>0</td>\n",
       "      <td>0</td>\n",
       "      <td>0</td>\n",
       "      <td>0</td>\n",
       "      <td>0</td>\n",
       "      <td>0</td>\n",
       "      <td>0</td>\n",
       "      <td>0</td>\n",
       "      <td>0</td>\n",
       "      <td>...</td>\n",
       "      <td>0</td>\n",
       "      <td>0</td>\n",
       "      <td>0</td>\n",
       "      <td>0</td>\n",
       "      <td>0</td>\n",
       "      <td>0</td>\n",
       "      <td>0</td>\n",
       "      <td>0</td>\n",
       "      <td>0</td>\n",
       "      <td>0</td>\n",
       "    </tr>\n",
       "    <tr>\n",
       "      <th>1</th>\n",
       "      <td>0</td>\n",
       "      <td>0</td>\n",
       "      <td>0</td>\n",
       "      <td>0</td>\n",
       "      <td>0</td>\n",
       "      <td>0</td>\n",
       "      <td>0</td>\n",
       "      <td>0</td>\n",
       "      <td>0</td>\n",
       "      <td>0</td>\n",
       "      <td>...</td>\n",
       "      <td>0</td>\n",
       "      <td>0</td>\n",
       "      <td>0</td>\n",
       "      <td>0</td>\n",
       "      <td>0</td>\n",
       "      <td>0</td>\n",
       "      <td>0</td>\n",
       "      <td>0</td>\n",
       "      <td>0</td>\n",
       "      <td>0</td>\n",
       "    </tr>\n",
       "    <tr>\n",
       "      <th>2</th>\n",
       "      <td>0</td>\n",
       "      <td>0</td>\n",
       "      <td>0</td>\n",
       "      <td>0</td>\n",
       "      <td>0</td>\n",
       "      <td>0</td>\n",
       "      <td>0</td>\n",
       "      <td>0</td>\n",
       "      <td>0</td>\n",
       "      <td>0</td>\n",
       "      <td>...</td>\n",
       "      <td>0</td>\n",
       "      <td>0</td>\n",
       "      <td>0</td>\n",
       "      <td>0</td>\n",
       "      <td>0</td>\n",
       "      <td>0</td>\n",
       "      <td>0</td>\n",
       "      <td>0</td>\n",
       "      <td>0</td>\n",
       "      <td>0</td>\n",
       "    </tr>\n",
       "    <tr>\n",
       "      <th>3</th>\n",
       "      <td>0</td>\n",
       "      <td>0</td>\n",
       "      <td>0</td>\n",
       "      <td>0</td>\n",
       "      <td>0</td>\n",
       "      <td>0</td>\n",
       "      <td>0</td>\n",
       "      <td>0</td>\n",
       "      <td>0</td>\n",
       "      <td>0</td>\n",
       "      <td>...</td>\n",
       "      <td>0</td>\n",
       "      <td>0</td>\n",
       "      <td>0</td>\n",
       "      <td>0</td>\n",
       "      <td>0</td>\n",
       "      <td>0</td>\n",
       "      <td>0</td>\n",
       "      <td>0</td>\n",
       "      <td>0</td>\n",
       "      <td>0</td>\n",
       "    </tr>\n",
       "    <tr>\n",
       "      <th>4</th>\n",
       "      <td>0</td>\n",
       "      <td>0</td>\n",
       "      <td>0</td>\n",
       "      <td>0</td>\n",
       "      <td>0</td>\n",
       "      <td>0</td>\n",
       "      <td>0</td>\n",
       "      <td>0</td>\n",
       "      <td>0</td>\n",
       "      <td>0</td>\n",
       "      <td>...</td>\n",
       "      <td>0</td>\n",
       "      <td>0</td>\n",
       "      <td>0</td>\n",
       "      <td>0</td>\n",
       "      <td>0</td>\n",
       "      <td>0</td>\n",
       "      <td>0</td>\n",
       "      <td>0</td>\n",
       "      <td>0</td>\n",
       "      <td>0</td>\n",
       "    </tr>\n",
       "    <tr>\n",
       "      <th>...</th>\n",
       "      <td>...</td>\n",
       "      <td>...</td>\n",
       "      <td>...</td>\n",
       "      <td>...</td>\n",
       "      <td>...</td>\n",
       "      <td>...</td>\n",
       "      <td>...</td>\n",
       "      <td>...</td>\n",
       "      <td>...</td>\n",
       "      <td>...</td>\n",
       "      <td>...</td>\n",
       "      <td>...</td>\n",
       "      <td>...</td>\n",
       "      <td>...</td>\n",
       "      <td>...</td>\n",
       "      <td>...</td>\n",
       "      <td>...</td>\n",
       "      <td>...</td>\n",
       "      <td>...</td>\n",
       "      <td>...</td>\n",
       "      <td>...</td>\n",
       "    </tr>\n",
       "    <tr>\n",
       "      <th>6395</th>\n",
       "      <td>0</td>\n",
       "      <td>0</td>\n",
       "      <td>0</td>\n",
       "      <td>0</td>\n",
       "      <td>0</td>\n",
       "      <td>0</td>\n",
       "      <td>0</td>\n",
       "      <td>0</td>\n",
       "      <td>0</td>\n",
       "      <td>0</td>\n",
       "      <td>...</td>\n",
       "      <td>0</td>\n",
       "      <td>0</td>\n",
       "      <td>0</td>\n",
       "      <td>0</td>\n",
       "      <td>0</td>\n",
       "      <td>0</td>\n",
       "      <td>0</td>\n",
       "      <td>0</td>\n",
       "      <td>0</td>\n",
       "      <td>0</td>\n",
       "    </tr>\n",
       "    <tr>\n",
       "      <th>6396</th>\n",
       "      <td>0</td>\n",
       "      <td>0</td>\n",
       "      <td>0</td>\n",
       "      <td>0</td>\n",
       "      <td>0</td>\n",
       "      <td>0</td>\n",
       "      <td>0</td>\n",
       "      <td>0</td>\n",
       "      <td>0</td>\n",
       "      <td>0</td>\n",
       "      <td>...</td>\n",
       "      <td>0</td>\n",
       "      <td>0</td>\n",
       "      <td>0</td>\n",
       "      <td>0</td>\n",
       "      <td>0</td>\n",
       "      <td>0</td>\n",
       "      <td>0</td>\n",
       "      <td>0</td>\n",
       "      <td>0</td>\n",
       "      <td>0</td>\n",
       "    </tr>\n",
       "    <tr>\n",
       "      <th>6397</th>\n",
       "      <td>0</td>\n",
       "      <td>0</td>\n",
       "      <td>0</td>\n",
       "      <td>0</td>\n",
       "      <td>0</td>\n",
       "      <td>0</td>\n",
       "      <td>0</td>\n",
       "      <td>0</td>\n",
       "      <td>0</td>\n",
       "      <td>0</td>\n",
       "      <td>...</td>\n",
       "      <td>0</td>\n",
       "      <td>0</td>\n",
       "      <td>0</td>\n",
       "      <td>0</td>\n",
       "      <td>0</td>\n",
       "      <td>0</td>\n",
       "      <td>0</td>\n",
       "      <td>0</td>\n",
       "      <td>0</td>\n",
       "      <td>0</td>\n",
       "    </tr>\n",
       "    <tr>\n",
       "      <th>6398</th>\n",
       "      <td>0</td>\n",
       "      <td>0</td>\n",
       "      <td>0</td>\n",
       "      <td>0</td>\n",
       "      <td>0</td>\n",
       "      <td>0</td>\n",
       "      <td>0</td>\n",
       "      <td>0</td>\n",
       "      <td>0</td>\n",
       "      <td>0</td>\n",
       "      <td>...</td>\n",
       "      <td>0</td>\n",
       "      <td>0</td>\n",
       "      <td>0</td>\n",
       "      <td>0</td>\n",
       "      <td>0</td>\n",
       "      <td>0</td>\n",
       "      <td>0</td>\n",
       "      <td>0</td>\n",
       "      <td>0</td>\n",
       "      <td>0</td>\n",
       "    </tr>\n",
       "    <tr>\n",
       "      <th>6399</th>\n",
       "      <td>0</td>\n",
       "      <td>0</td>\n",
       "      <td>0</td>\n",
       "      <td>0</td>\n",
       "      <td>0</td>\n",
       "      <td>0</td>\n",
       "      <td>0</td>\n",
       "      <td>0</td>\n",
       "      <td>0</td>\n",
       "      <td>0</td>\n",
       "      <td>...</td>\n",
       "      <td>0</td>\n",
       "      <td>0</td>\n",
       "      <td>0</td>\n",
       "      <td>0</td>\n",
       "      <td>0</td>\n",
       "      <td>0</td>\n",
       "      <td>0</td>\n",
       "      <td>0</td>\n",
       "      <td>0</td>\n",
       "      <td>0</td>\n",
       "    </tr>\n",
       "  </tbody>\n",
       "</table>\n",
       "<p>6400 rows × 3614 columns</p>\n",
       "</div>"
      ],
      "text/plain": [
       "      00  10  10 years  100  11  12  13  14  15  150  ...  young  younger  \\\n",
       "0      0   0         0    0   0   0   0   0   0    0  ...      0        0   \n",
       "1      0   0         0    0   0   0   0   0   0    0  ...      0        0   \n",
       "2      0   0         0    0   0   0   0   0   0    0  ...      0        0   \n",
       "3      0   0         0    0   0   0   0   0   0    0  ...      0        0   \n",
       "4      0   0         0    0   0   0   0   0   0    0  ...      0        0   \n",
       "...   ..  ..       ...  ...  ..  ..  ..  ..  ..  ...  ...    ...      ...   \n",
       "6395   0   0         0    0   0   0   0   0   0    0  ...      0        0   \n",
       "6396   0   0         0    0   0   0   0   0   0    0  ...      0        0   \n",
       "6397   0   0         0    0   0   0   0   0   0    0  ...      0        0   \n",
       "6398   0   0         0    0   0   0   0   0   0    0  ...      0        0   \n",
       "6399   0   0         0    0   0   0   0   0   0    0  ...      0        0   \n",
       "\n",
       "      youth  yr  yr old  yrs  zen  zero  zero stars  zombie  \n",
       "0         0   0       0    0    0     0           0       0  \n",
       "1         0   0       0    0    0     0           0       0  \n",
       "2         0   0       0    0    0     0           0       0  \n",
       "3         0   0       0    0    0     0           0       0  \n",
       "4         0   0       0    0    0     0           0       0  \n",
       "...     ...  ..     ...  ...  ...   ...         ...     ...  \n",
       "6395      0   0       0    0    0     0           0       0  \n",
       "6396      0   0       0    0    0     0           0       0  \n",
       "6397      0   0       0    0    0     0           0       0  \n",
       "6398      0   0       0    0    0     0           0       0  \n",
       "6399      0   0       0    0    0     0           0       0  \n",
       "\n",
       "[6400 rows x 3614 columns]"
      ]
     },
     "execution_count": 78,
     "metadata": {},
     "output_type": "execute_result"
    }
   ],
   "source": [
    "pd.DataFrame(X_train_bow.todense(),columns=bow.get_feature_names_out())"
   ]
  },
  {
   "cell_type": "code",
   "execution_count": 79,
   "id": "6ef43f0d",
   "metadata": {},
   "outputs": [],
   "source": [
    "X_test_bow = bow.transform(X_test)"
   ]
  },
  {
   "cell_type": "markdown",
   "id": "2c300b69",
   "metadata": {},
   "source": [
    "# Logistic Regresson"
   ]
  },
  {
   "cell_type": "code",
   "execution_count": 80,
   "id": "fb623e01",
   "metadata": {},
   "outputs": [],
   "source": [
    "from sklearn.linear_model import LogisticRegression\n",
    "regressor = LogisticRegression()\n",
    "regressor = regressor.fit(X_train_bow,Y_train)"
   ]
  },
  {
   "cell_type": "code",
   "execution_count": 81,
   "id": "6144f59f",
   "metadata": {},
   "outputs": [
    {
     "data": {
      "text/plain": [
       "3614"
      ]
     },
     "execution_count": 81,
     "metadata": {},
     "output_type": "execute_result"
    }
   ],
   "source": [
    "len(regressor.coef_[0])"
   ]
  },
  {
   "cell_type": "code",
   "execution_count": 82,
   "id": "58e0ac21",
   "metadata": {},
   "outputs": [
    {
     "data": {
      "text/plain": [
       "1090"
      ]
     },
     "execution_count": 82,
     "metadata": {},
     "output_type": "execute_result"
    }
   ],
   "source": [
    "largest_coef_ind = regressor.coef_.argmax()\n",
    "largest_coef_ind"
   ]
  },
  {
   "cell_type": "code",
   "execution_count": 83,
   "id": "5a313120",
   "metadata": {},
   "outputs": [
    {
     "data": {
      "text/plain": [
       "1090"
      ]
     },
     "execution_count": 83,
     "metadata": {},
     "output_type": "execute_result"
    }
   ],
   "source": [
    "sorted_ind = regressor.coef_.argsort()\n",
    "sorted_ind[0][-1]"
   ]
  },
  {
   "cell_type": "code",
   "execution_count": 84,
   "id": "8caf0db6",
   "metadata": {},
   "outputs": [
    {
     "data": {
      "text/plain": [
       "2.398761381373864"
      ]
     },
     "execution_count": 84,
     "metadata": {},
     "output_type": "execute_result"
    }
   ],
   "source": [
    "regressor.coef_.max()"
   ]
  },
  {
   "cell_type": "code",
   "execution_count": 85,
   "id": "8e0d7ba5",
   "metadata": {},
   "outputs": [
    {
     "data": {
      "text/plain": [
       "array(['00', '10', '10 years', ..., 'zero', 'zero stars', 'zombie'],\n",
       "      dtype=object)"
      ]
     },
     "execution_count": 85,
     "metadata": {},
     "output_type": "execute_result"
    }
   ],
   "source": [
    "bow.get_feature_names_out()"
   ]
  },
  {
   "cell_type": "code",
   "execution_count": 87,
   "id": "17383ac6",
   "metadata": {},
   "outputs": [
    {
     "data": {
      "text/plain": [
       "array([[0.00815149, 0.99184851],\n",
       "       [0.98212116, 0.01787884],\n",
       "       [0.00361756, 0.99638244],\n",
       "       ...,\n",
       "       [0.9964008 , 0.0035992 ],\n",
       "       [0.15262261, 0.84737739],\n",
       "       [0.00785376, 0.99214624]])"
      ]
     },
     "execution_count": 87,
     "metadata": {},
     "output_type": "execute_result"
    }
   ],
   "source": [
    "regressor.predict_proba(X_test_bow)"
   ]
  },
  {
   "cell_type": "code",
   "execution_count": 88,
   "id": "28c85b87",
   "metadata": {},
   "outputs": [],
   "source": [
    "from sklearn.metrics import accuracy_score"
   ]
  },
  {
   "cell_type": "code",
   "execution_count": 89,
   "id": "f796b164",
   "metadata": {},
   "outputs": [],
   "source": [
    "Y_pred = regressor.predict(X_test_bow)"
   ]
  },
  {
   "cell_type": "code",
   "execution_count": 90,
   "id": "1cc1f26c",
   "metadata": {},
   "outputs": [
    {
     "name": "stdout",
     "output_type": "stream",
     "text": [
      "Accuracy of the model=  0.85\n"
     ]
    }
   ],
   "source": [
    "score = accuracy_score(Y_pred,Y_test)\n",
    "print(\"Accuracy of the model= \",score)"
   ]
  },
  {
   "cell_type": "code",
   "execution_count": 91,
   "id": "c976223c",
   "metadata": {},
   "outputs": [],
   "source": [
    "from sklearn.metrics import confusion_matrix,classification_report"
   ]
  },
  {
   "cell_type": "markdown",
   "id": "4c5aabeb",
   "metadata": {},
   "source": [
    "# Confusion Metrics"
   ]
  },
  {
   "cell_type": "code",
   "execution_count": 92,
   "id": "e123e6d0",
   "metadata": {},
   "outputs": [
    {
     "data": {
      "text/plain": [
       "array([[681, 119],\n",
       "       [121, 679]], dtype=int64)"
      ]
     },
     "execution_count": 92,
     "metadata": {},
     "output_type": "execute_result"
    }
   ],
   "source": [
    "confusion_matrix(Y_test, Y_pred)"
   ]
  },
  {
   "cell_type": "code",
   "execution_count": 93,
   "id": "f3c78305",
   "metadata": {},
   "outputs": [
    {
     "data": {
      "text/plain": [
       "array(['__label__2', '__label__1', '__label__2', ..., '__label__1',\n",
       "       '__label__2', '__label__2'], dtype=object)"
      ]
     },
     "execution_count": 93,
     "metadata": {},
     "output_type": "execute_result"
    }
   ],
   "source": [
    "Y_pred"
   ]
  },
  {
   "cell_type": "code",
   "execution_count": 94,
   "id": "eb7b5d40",
   "metadata": {},
   "outputs": [
    {
     "name": "stdout",
     "output_type": "stream",
     "text": [
      "              precision    recall  f1-score   support\n",
      "\n",
      "  __label__1       0.85      0.85      0.85       800\n",
      "  __label__2       0.85      0.85      0.85       800\n",
      "\n",
      "    accuracy                           0.85      1600\n",
      "   macro avg       0.85      0.85      0.85      1600\n",
      "weighted avg       0.85      0.85      0.85      1600\n",
      "\n"
     ]
    }
   ],
   "source": [
    "print(classification_report(Y_test, Y_pred))"
   ]
  },
  {
   "cell_type": "markdown",
   "id": "3b46898f",
   "metadata": {},
   "source": [
    "TFIDF"
   ]
  },
  {
   "cell_type": "code",
   "execution_count": 96,
   "id": "8040b921",
   "metadata": {},
   "outputs": [],
   "source": [
    "from sklearn.feature_extraction.text import TfidfVectorizer\n",
    "tfidf = TfidfVectorizer(min_df = 5,ngram_range=(1,5),stop_words = 'english')\n",
    "X_train_tf = tfidf.fit_transform(X_train)\n",
    "X_test_tf = tfidf.transform(X_test)"
   ]
  },
  {
   "cell_type": "code",
   "execution_count": 97,
   "id": "a27eea5d",
   "metadata": {},
   "outputs": [
    {
     "data": {
      "text/plain": [
       "array(['00', '000', '07', ..., 'zombie', 'zombies', 'zoom'], dtype=object)"
      ]
     },
     "execution_count": 97,
     "metadata": {},
     "output_type": "execute_result"
    }
   ],
   "source": [
    "tfidf.get_feature_names_out()"
   ]
  },
  {
   "cell_type": "code",
   "execution_count": 98,
   "id": "2cc3b112",
   "metadata": {},
   "outputs": [],
   "source": [
    "regressor = LogisticRegression()\n",
    "regressor = regressor.fit(X_train_tf,Y_train)"
   ]
  },
  {
   "cell_type": "code",
   "execution_count": 99,
   "id": "c827784f",
   "metadata": {},
   "outputs": [
    {
     "data": {
      "text/plain": [
       "'great'"
      ]
     },
     "execution_count": 99,
     "metadata": {},
     "output_type": "execute_result"
    }
   ],
   "source": [
    "len(regressor.coef_[0])\n",
    "larg_coef= regressor.coef_.argmax()\n",
    "tfidf.get_feature_names_out()[larg_coef]"
   ]
  },
  {
   "cell_type": "code",
   "execution_count": 100,
   "id": "379acd78",
   "metadata": {},
   "outputs": [],
   "source": [
    "Y_pred_tf = regressor.predict(X_test_tf)"
   ]
  },
  {
   "cell_type": "code",
   "execution_count": 101,
   "id": "6c0dab87",
   "metadata": {},
   "outputs": [
    {
     "name": "stdout",
     "output_type": "stream",
     "text": [
      "Accuracy of the model=  0.865\n"
     ]
    }
   ],
   "source": [
    "score = accuracy_score(Y_pred_tf,Y_test)\n",
    "print(\"Accuracy of the model= \",score)"
   ]
  },
  {
   "cell_type": "code",
   "execution_count": 102,
   "id": "d4c8ca99",
   "metadata": {},
   "outputs": [
    {
     "data": {
      "text/plain": [
       "array([[690, 110],\n",
       "       [106, 694]], dtype=int64)"
      ]
     },
     "execution_count": 102,
     "metadata": {},
     "output_type": "execute_result"
    }
   ],
   "source": [
    "confusion_matrix(Y_test, Y_pred_tf)\n"
   ]
  },
  {
   "cell_type": "code",
   "execution_count": 103,
   "id": "40873953",
   "metadata": {},
   "outputs": [
    {
     "name": "stdout",
     "output_type": "stream",
     "text": [
      "              precision    recall  f1-score   support\n",
      "\n",
      "  __label__1       0.87      0.86      0.86       800\n",
      "  __label__2       0.86      0.87      0.87       800\n",
      "\n",
      "    accuracy                           0.86      1600\n",
      "   macro avg       0.87      0.86      0.86      1600\n",
      "weighted avg       0.87      0.86      0.86      1600\n",
      "\n"
     ]
    }
   ],
   "source": [
    "print(classification_report(Y_test, Y_pred_tf))"
   ]
  },
  {
   "cell_type": "code",
   "execution_count": 104,
   "id": "6c8ce307",
   "metadata": {},
   "outputs": [],
   "source": [
    "from sklearn.model_selection import cross_val_score,GridSearchCV,RandomizedSearchCV"
   ]
  },
  {
   "cell_type": "code",
   "execution_count": 105,
   "id": "1153bc7b",
   "metadata": {},
   "outputs": [],
   "source": [
    "scores = cross_val_score(estimator=regressor,\n",
    "X=X_train_tf,\n",
    "y=Y_train,\n",
    "cv=5,\n",
    "scoring='accuracy')"
   ]
  },
  {
   "cell_type": "code",
   "execution_count": 106,
   "id": "e17b66a5",
   "metadata": {},
   "outputs": [
    {
     "name": "stdout",
     "output_type": "stream",
     "text": [
      "Validation scores from each iteration of the cross validation  [0.85       0.85625    0.84765625 0.84453125 0.8515625 ]\n",
      "Mean value across of validation scores  0.85\n",
      "Standard deviation of validation scores  0.003921843874378477\n"
     ]
    }
   ],
   "source": [
    "print (\"Validation scores from each iteration of the cross validation \", scores)\n",
    "print (\"Mean value across of validation scores \", scores.mean())\n",
    "print (\"Standard deviation of validation scores \", scores.std())"
   ]
  },
  {
   "cell_type": "markdown",
   "id": "1a9d012f",
   "metadata": {},
   "source": [
    "# Hyperparameter tunning"
   ]
  },
  {
   "cell_type": "code",
   "execution_count": 107,
   "id": "3271ce12",
   "metadata": {},
   "outputs": [],
   "source": [
    "from sklearn.pipeline import Pipeline"
   ]
  },
  {
   "cell_type": "code",
   "execution_count": 108,
   "id": "9a6849b9",
   "metadata": {},
   "outputs": [],
   "source": [
    "training_pipeline = Pipeline(steps=[('tfidf', TfidfVectorizer(stop_words=\"english\")),\n",
    "('model', LogisticRegression(random_state=42))])"
   ]
  },
  {
   "cell_type": "code",
   "execution_count": 109,
   "id": "78aa5a76",
   "metadata": {},
   "outputs": [],
   "source": [
    "grid_param = [{\n",
    "'tfidf__min_df': [5, 10],\n",
    "'tfidf__ngram_range': [(1, 3), (1, 6)],\n",
    "'model__max_iter': [10000],\n",
    "'model__tol': [1e-2, 1e-3],\n",
    "'model__penalty':['l2'],\n",
    "'model__C':[0.5,1,2,5]\n",
    "}]"
   ]
  },
  {
   "cell_type": "code",
   "execution_count": 110,
   "id": "26fb5712",
   "metadata": {
    "scrolled": false
   },
   "outputs": [
    {
     "name": "stdout",
     "output_type": "stream",
     "text": [
      "Fitting 5 folds for each of 32 candidates, totalling 160 fits\n",
      "[CV] END model__C=0.5, model__max_iter=10000, model__penalty=l2, model__tol=0.01, tfidf__min_df=5, tfidf__ngram_range=(1, 3); total time=   1.1s\n",
      "[CV] END model__C=0.5, model__max_iter=10000, model__penalty=l2, model__tol=0.01, tfidf__min_df=5, tfidf__ngram_range=(1, 3); total time=   1.1s\n",
      "[CV] END model__C=0.5, model__max_iter=10000, model__penalty=l2, model__tol=0.01, tfidf__min_df=5, tfidf__ngram_range=(1, 3); total time=   1.1s\n",
      "[CV] END model__C=0.5, model__max_iter=10000, model__penalty=l2, model__tol=0.01, tfidf__min_df=5, tfidf__ngram_range=(1, 3); total time=   1.0s\n",
      "[CV] END model__C=0.5, model__max_iter=10000, model__penalty=l2, model__tol=0.01, tfidf__min_df=5, tfidf__ngram_range=(1, 3); total time=   1.0s\n",
      "[CV] END model__C=0.5, model__max_iter=10000, model__penalty=l2, model__tol=0.01, tfidf__min_df=5, tfidf__ngram_range=(1, 6); total time=   2.3s\n",
      "[CV] END model__C=0.5, model__max_iter=10000, model__penalty=l2, model__tol=0.01, tfidf__min_df=5, tfidf__ngram_range=(1, 6); total time=   2.2s\n",
      "[CV] END model__C=0.5, model__max_iter=10000, model__penalty=l2, model__tol=0.01, tfidf__min_df=5, tfidf__ngram_range=(1, 6); total time=   2.2s\n",
      "[CV] END model__C=0.5, model__max_iter=10000, model__penalty=l2, model__tol=0.01, tfidf__min_df=5, tfidf__ngram_range=(1, 6); total time=   2.2s\n",
      "[CV] END model__C=0.5, model__max_iter=10000, model__penalty=l2, model__tol=0.01, tfidf__min_df=5, tfidf__ngram_range=(1, 6); total time=   2.2s\n",
      "[CV] END model__C=0.5, model__max_iter=10000, model__penalty=l2, model__tol=0.01, tfidf__min_df=10, tfidf__ngram_range=(1, 3); total time=   1.1s\n",
      "[CV] END model__C=0.5, model__max_iter=10000, model__penalty=l2, model__tol=0.01, tfidf__min_df=10, tfidf__ngram_range=(1, 3); total time=   1.1s\n",
      "[CV] END model__C=0.5, model__max_iter=10000, model__penalty=l2, model__tol=0.01, tfidf__min_df=10, tfidf__ngram_range=(1, 3); total time=   1.1s\n",
      "[CV] END model__C=0.5, model__max_iter=10000, model__penalty=l2, model__tol=0.01, tfidf__min_df=10, tfidf__ngram_range=(1, 3); total time=   1.2s\n",
      "[CV] END model__C=0.5, model__max_iter=10000, model__penalty=l2, model__tol=0.01, tfidf__min_df=10, tfidf__ngram_range=(1, 3); total time=   1.0s\n",
      "[CV] END model__C=0.5, model__max_iter=10000, model__penalty=l2, model__tol=0.01, tfidf__min_df=10, tfidf__ngram_range=(1, 6); total time=   2.1s\n",
      "[CV] END model__C=0.5, model__max_iter=10000, model__penalty=l2, model__tol=0.01, tfidf__min_df=10, tfidf__ngram_range=(1, 6); total time=   2.2s\n",
      "[CV] END model__C=0.5, model__max_iter=10000, model__penalty=l2, model__tol=0.01, tfidf__min_df=10, tfidf__ngram_range=(1, 6); total time=   2.2s\n",
      "[CV] END model__C=0.5, model__max_iter=10000, model__penalty=l2, model__tol=0.01, tfidf__min_df=10, tfidf__ngram_range=(1, 6); total time=   2.2s\n",
      "[CV] END model__C=0.5, model__max_iter=10000, model__penalty=l2, model__tol=0.01, tfidf__min_df=10, tfidf__ngram_range=(1, 6); total time=   2.2s\n",
      "[CV] END model__C=0.5, model__max_iter=10000, model__penalty=l2, model__tol=0.001, tfidf__min_df=5, tfidf__ngram_range=(1, 3); total time=   1.1s\n",
      "[CV] END model__C=0.5, model__max_iter=10000, model__penalty=l2, model__tol=0.001, tfidf__min_df=5, tfidf__ngram_range=(1, 3); total time=   1.1s\n",
      "[CV] END model__C=0.5, model__max_iter=10000, model__penalty=l2, model__tol=0.001, tfidf__min_df=5, tfidf__ngram_range=(1, 3); total time=   1.1s\n",
      "[CV] END model__C=0.5, model__max_iter=10000, model__penalty=l2, model__tol=0.001, tfidf__min_df=5, tfidf__ngram_range=(1, 3); total time=   1.1s\n",
      "[CV] END model__C=0.5, model__max_iter=10000, model__penalty=l2, model__tol=0.001, tfidf__min_df=5, tfidf__ngram_range=(1, 3); total time=   1.1s\n",
      "[CV] END model__C=0.5, model__max_iter=10000, model__penalty=l2, model__tol=0.001, tfidf__min_df=5, tfidf__ngram_range=(1, 6); total time=   2.2s\n",
      "[CV] END model__C=0.5, model__max_iter=10000, model__penalty=l2, model__tol=0.001, tfidf__min_df=5, tfidf__ngram_range=(1, 6); total time=   2.2s\n",
      "[CV] END model__C=0.5, model__max_iter=10000, model__penalty=l2, model__tol=0.001, tfidf__min_df=5, tfidf__ngram_range=(1, 6); total time=   2.2s\n",
      "[CV] END model__C=0.5, model__max_iter=10000, model__penalty=l2, model__tol=0.001, tfidf__min_df=5, tfidf__ngram_range=(1, 6); total time=   2.2s\n",
      "[CV] END model__C=0.5, model__max_iter=10000, model__penalty=l2, model__tol=0.001, tfidf__min_df=5, tfidf__ngram_range=(1, 6); total time=   2.2s\n",
      "[CV] END model__C=0.5, model__max_iter=10000, model__penalty=l2, model__tol=0.001, tfidf__min_df=10, tfidf__ngram_range=(1, 3); total time=   1.1s\n",
      "[CV] END model__C=0.5, model__max_iter=10000, model__penalty=l2, model__tol=0.001, tfidf__min_df=10, tfidf__ngram_range=(1, 3); total time=   1.1s\n",
      "[CV] END model__C=0.5, model__max_iter=10000, model__penalty=l2, model__tol=0.001, tfidf__min_df=10, tfidf__ngram_range=(1, 3); total time=   1.1s\n",
      "[CV] END model__C=0.5, model__max_iter=10000, model__penalty=l2, model__tol=0.001, tfidf__min_df=10, tfidf__ngram_range=(1, 3); total time=   1.1s\n",
      "[CV] END model__C=0.5, model__max_iter=10000, model__penalty=l2, model__tol=0.001, tfidf__min_df=10, tfidf__ngram_range=(1, 3); total time=   1.1s\n",
      "[CV] END model__C=0.5, model__max_iter=10000, model__penalty=l2, model__tol=0.001, tfidf__min_df=10, tfidf__ngram_range=(1, 6); total time=   2.2s\n",
      "[CV] END model__C=0.5, model__max_iter=10000, model__penalty=l2, model__tol=0.001, tfidf__min_df=10, tfidf__ngram_range=(1, 6); total time=   2.1s\n",
      "[CV] END model__C=0.5, model__max_iter=10000, model__penalty=l2, model__tol=0.001, tfidf__min_df=10, tfidf__ngram_range=(1, 6); total time=   2.1s\n",
      "[CV] END model__C=0.5, model__max_iter=10000, model__penalty=l2, model__tol=0.001, tfidf__min_df=10, tfidf__ngram_range=(1, 6); total time=   2.2s\n",
      "[CV] END model__C=0.5, model__max_iter=10000, model__penalty=l2, model__tol=0.001, tfidf__min_df=10, tfidf__ngram_range=(1, 6); total time=   2.2s\n",
      "[CV] END model__C=1, model__max_iter=10000, model__penalty=l2, model__tol=0.01, tfidf__min_df=5, tfidf__ngram_range=(1, 3); total time=   1.1s\n",
      "[CV] END model__C=1, model__max_iter=10000, model__penalty=l2, model__tol=0.01, tfidf__min_df=5, tfidf__ngram_range=(1, 3); total time=   1.1s\n",
      "[CV] END model__C=1, model__max_iter=10000, model__penalty=l2, model__tol=0.01, tfidf__min_df=5, tfidf__ngram_range=(1, 3); total time=   1.2s\n",
      "[CV] END model__C=1, model__max_iter=10000, model__penalty=l2, model__tol=0.01, tfidf__min_df=5, tfidf__ngram_range=(1, 3); total time=   1.1s\n",
      "[CV] END model__C=1, model__max_iter=10000, model__penalty=l2, model__tol=0.01, tfidf__min_df=5, tfidf__ngram_range=(1, 3); total time=   1.1s\n",
      "[CV] END model__C=1, model__max_iter=10000, model__penalty=l2, model__tol=0.01, tfidf__min_df=5, tfidf__ngram_range=(1, 6); total time=   2.2s\n",
      "[CV] END model__C=1, model__max_iter=10000, model__penalty=l2, model__tol=0.01, tfidf__min_df=5, tfidf__ngram_range=(1, 6); total time=   2.2s\n",
      "[CV] END model__C=1, model__max_iter=10000, model__penalty=l2, model__tol=0.01, tfidf__min_df=5, tfidf__ngram_range=(1, 6); total time=   2.2s\n",
      "[CV] END model__C=1, model__max_iter=10000, model__penalty=l2, model__tol=0.01, tfidf__min_df=5, tfidf__ngram_range=(1, 6); total time=   2.1s\n",
      "[CV] END model__C=1, model__max_iter=10000, model__penalty=l2, model__tol=0.01, tfidf__min_df=5, tfidf__ngram_range=(1, 6); total time=   2.1s\n",
      "[CV] END model__C=1, model__max_iter=10000, model__penalty=l2, model__tol=0.01, tfidf__min_df=10, tfidf__ngram_range=(1, 3); total time=   1.1s\n",
      "[CV] END model__C=1, model__max_iter=10000, model__penalty=l2, model__tol=0.01, tfidf__min_df=10, tfidf__ngram_range=(1, 3); total time=   1.1s\n",
      "[CV] END model__C=1, model__max_iter=10000, model__penalty=l2, model__tol=0.01, tfidf__min_df=10, tfidf__ngram_range=(1, 3); total time=   1.1s\n",
      "[CV] END model__C=1, model__max_iter=10000, model__penalty=l2, model__tol=0.01, tfidf__min_df=10, tfidf__ngram_range=(1, 3); total time=   1.1s\n",
      "[CV] END model__C=1, model__max_iter=10000, model__penalty=l2, model__tol=0.01, tfidf__min_df=10, tfidf__ngram_range=(1, 3); total time=   1.1s\n",
      "[CV] END model__C=1, model__max_iter=10000, model__penalty=l2, model__tol=0.01, tfidf__min_df=10, tfidf__ngram_range=(1, 6); total time=   2.2s\n",
      "[CV] END model__C=1, model__max_iter=10000, model__penalty=l2, model__tol=0.01, tfidf__min_df=10, tfidf__ngram_range=(1, 6); total time=   2.2s\n",
      "[CV] END model__C=1, model__max_iter=10000, model__penalty=l2, model__tol=0.01, tfidf__min_df=10, tfidf__ngram_range=(1, 6); total time=   2.1s\n",
      "[CV] END model__C=1, model__max_iter=10000, model__penalty=l2, model__tol=0.01, tfidf__min_df=10, tfidf__ngram_range=(1, 6); total time=   2.1s\n",
      "[CV] END model__C=1, model__max_iter=10000, model__penalty=l2, model__tol=0.01, tfidf__min_df=10, tfidf__ngram_range=(1, 6); total time=   2.2s\n",
      "[CV] END model__C=1, model__max_iter=10000, model__penalty=l2, model__tol=0.001, tfidf__min_df=5, tfidf__ngram_range=(1, 3); total time=   1.1s\n",
      "[CV] END model__C=1, model__max_iter=10000, model__penalty=l2, model__tol=0.001, tfidf__min_df=5, tfidf__ngram_range=(1, 3); total time=   1.1s\n",
      "[CV] END model__C=1, model__max_iter=10000, model__penalty=l2, model__tol=0.001, tfidf__min_df=5, tfidf__ngram_range=(1, 3); total time=   1.1s\n",
      "[CV] END model__C=1, model__max_iter=10000, model__penalty=l2, model__tol=0.001, tfidf__min_df=5, tfidf__ngram_range=(1, 3); total time=   1.2s\n",
      "[CV] END model__C=1, model__max_iter=10000, model__penalty=l2, model__tol=0.001, tfidf__min_df=5, tfidf__ngram_range=(1, 3); total time=   1.1s\n",
      "[CV] END model__C=1, model__max_iter=10000, model__penalty=l2, model__tol=0.001, tfidf__min_df=5, tfidf__ngram_range=(1, 6); total time=   2.2s\n",
      "[CV] END model__C=1, model__max_iter=10000, model__penalty=l2, model__tol=0.001, tfidf__min_df=5, tfidf__ngram_range=(1, 6); total time=   2.4s\n",
      "[CV] END model__C=1, model__max_iter=10000, model__penalty=l2, model__tol=0.001, tfidf__min_df=5, tfidf__ngram_range=(1, 6); total time=   2.1s\n",
      "[CV] END model__C=1, model__max_iter=10000, model__penalty=l2, model__tol=0.001, tfidf__min_df=5, tfidf__ngram_range=(1, 6); total time=   2.1s\n",
      "[CV] END model__C=1, model__max_iter=10000, model__penalty=l2, model__tol=0.001, tfidf__min_df=5, tfidf__ngram_range=(1, 6); total time=   2.1s\n",
      "[CV] END model__C=1, model__max_iter=10000, model__penalty=l2, model__tol=0.001, tfidf__min_df=10, tfidf__ngram_range=(1, 3); total time=   1.0s\n",
      "[CV] END model__C=1, model__max_iter=10000, model__penalty=l2, model__tol=0.001, tfidf__min_df=10, tfidf__ngram_range=(1, 3); total time=   1.0s\n",
      "[CV] END model__C=1, model__max_iter=10000, model__penalty=l2, model__tol=0.001, tfidf__min_df=10, tfidf__ngram_range=(1, 3); total time=   1.1s\n",
      "[CV] END model__C=1, model__max_iter=10000, model__penalty=l2, model__tol=0.001, tfidf__min_df=10, tfidf__ngram_range=(1, 3); total time=   1.1s\n",
      "[CV] END model__C=1, model__max_iter=10000, model__penalty=l2, model__tol=0.001, tfidf__min_df=10, tfidf__ngram_range=(1, 3); total time=   1.1s\n",
      "[CV] END model__C=1, model__max_iter=10000, model__penalty=l2, model__tol=0.001, tfidf__min_df=10, tfidf__ngram_range=(1, 6); total time=   2.2s\n",
      "[CV] END model__C=1, model__max_iter=10000, model__penalty=l2, model__tol=0.001, tfidf__min_df=10, tfidf__ngram_range=(1, 6); total time=   2.1s\n",
      "[CV] END model__C=1, model__max_iter=10000, model__penalty=l2, model__tol=0.001, tfidf__min_df=10, tfidf__ngram_range=(1, 6); total time=   2.2s\n",
      "[CV] END model__C=1, model__max_iter=10000, model__penalty=l2, model__tol=0.001, tfidf__min_df=10, tfidf__ngram_range=(1, 6); total time=   2.1s\n",
      "[CV] END model__C=1, model__max_iter=10000, model__penalty=l2, model__tol=0.001, tfidf__min_df=10, tfidf__ngram_range=(1, 6); total time=   2.2s\n",
      "[CV] END model__C=2, model__max_iter=10000, model__penalty=l2, model__tol=0.01, tfidf__min_df=5, tfidf__ngram_range=(1, 3); total time=   1.1s\n",
      "[CV] END model__C=2, model__max_iter=10000, model__penalty=l2, model__tol=0.01, tfidf__min_df=5, tfidf__ngram_range=(1, 3); total time=   1.1s\n",
      "[CV] END model__C=2, model__max_iter=10000, model__penalty=l2, model__tol=0.01, tfidf__min_df=5, tfidf__ngram_range=(1, 3); total time=   1.1s\n",
      "[CV] END model__C=2, model__max_iter=10000, model__penalty=l2, model__tol=0.01, tfidf__min_df=5, tfidf__ngram_range=(1, 3); total time=   1.0s\n",
      "[CV] END model__C=2, model__max_iter=10000, model__penalty=l2, model__tol=0.01, tfidf__min_df=5, tfidf__ngram_range=(1, 3); total time=   1.1s\n",
      "[CV] END model__C=2, model__max_iter=10000, model__penalty=l2, model__tol=0.01, tfidf__min_df=5, tfidf__ngram_range=(1, 6); total time=   2.1s\n",
      "[CV] END model__C=2, model__max_iter=10000, model__penalty=l2, model__tol=0.01, tfidf__min_df=5, tfidf__ngram_range=(1, 6); total time=   2.1s\n",
      "[CV] END model__C=2, model__max_iter=10000, model__penalty=l2, model__tol=0.01, tfidf__min_df=5, tfidf__ngram_range=(1, 6); total time=   2.1s\n",
      "[CV] END model__C=2, model__max_iter=10000, model__penalty=l2, model__tol=0.01, tfidf__min_df=5, tfidf__ngram_range=(1, 6); total time=   2.2s\n",
      "[CV] END model__C=2, model__max_iter=10000, model__penalty=l2, model__tol=0.01, tfidf__min_df=5, tfidf__ngram_range=(1, 6); total time=   2.2s\n",
      "[CV] END model__C=2, model__max_iter=10000, model__penalty=l2, model__tol=0.01, tfidf__min_df=10, tfidf__ngram_range=(1, 3); total time=   1.1s\n",
      "[CV] END model__C=2, model__max_iter=10000, model__penalty=l2, model__tol=0.01, tfidf__min_df=10, tfidf__ngram_range=(1, 3); total time=   1.0s\n",
      "[CV] END model__C=2, model__max_iter=10000, model__penalty=l2, model__tol=0.01, tfidf__min_df=10, tfidf__ngram_range=(1, 3); total time=   1.2s\n",
      "[CV] END model__C=2, model__max_iter=10000, model__penalty=l2, model__tol=0.01, tfidf__min_df=10, tfidf__ngram_range=(1, 3); total time=   1.0s\n",
      "[CV] END model__C=2, model__max_iter=10000, model__penalty=l2, model__tol=0.01, tfidf__min_df=10, tfidf__ngram_range=(1, 3); total time=   1.0s\n",
      "[CV] END model__C=2, model__max_iter=10000, model__penalty=l2, model__tol=0.01, tfidf__min_df=10, tfidf__ngram_range=(1, 6); total time=   2.2s\n",
      "[CV] END model__C=2, model__max_iter=10000, model__penalty=l2, model__tol=0.01, tfidf__min_df=10, tfidf__ngram_range=(1, 6); total time=   2.3s\n",
      "[CV] END model__C=2, model__max_iter=10000, model__penalty=l2, model__tol=0.01, tfidf__min_df=10, tfidf__ngram_range=(1, 6); total time=   2.1s\n",
      "[CV] END model__C=2, model__max_iter=10000, model__penalty=l2, model__tol=0.01, tfidf__min_df=10, tfidf__ngram_range=(1, 6); total time=   2.1s\n",
      "[CV] END model__C=2, model__max_iter=10000, model__penalty=l2, model__tol=0.01, tfidf__min_df=10, tfidf__ngram_range=(1, 6); total time=   2.2s\n",
      "[CV] END model__C=2, model__max_iter=10000, model__penalty=l2, model__tol=0.001, tfidf__min_df=5, tfidf__ngram_range=(1, 3); total time=   1.0s\n",
      "[CV] END model__C=2, model__max_iter=10000, model__penalty=l2, model__tol=0.001, tfidf__min_df=5, tfidf__ngram_range=(1, 3); total time=   1.0s\n",
      "[CV] END model__C=2, model__max_iter=10000, model__penalty=l2, model__tol=0.001, tfidf__min_df=5, tfidf__ngram_range=(1, 3); total time=   1.1s\n",
      "[CV] END model__C=2, model__max_iter=10000, model__penalty=l2, model__tol=0.001, tfidf__min_df=5, tfidf__ngram_range=(1, 3); total time=   1.1s\n",
      "[CV] END model__C=2, model__max_iter=10000, model__penalty=l2, model__tol=0.001, tfidf__min_df=5, tfidf__ngram_range=(1, 3); total time=   1.2s\n",
      "[CV] END model__C=2, model__max_iter=10000, model__penalty=l2, model__tol=0.001, tfidf__min_df=5, tfidf__ngram_range=(1, 6); total time=   2.3s\n",
      "[CV] END model__C=2, model__max_iter=10000, model__penalty=l2, model__tol=0.001, tfidf__min_df=5, tfidf__ngram_range=(1, 6); total time=   2.3s\n",
      "[CV] END model__C=2, model__max_iter=10000, model__penalty=l2, model__tol=0.001, tfidf__min_df=5, tfidf__ngram_range=(1, 6); total time=   2.2s\n",
      "[CV] END model__C=2, model__max_iter=10000, model__penalty=l2, model__tol=0.001, tfidf__min_df=5, tfidf__ngram_range=(1, 6); total time=   2.1s\n",
      "[CV] END model__C=2, model__max_iter=10000, model__penalty=l2, model__tol=0.001, tfidf__min_df=5, tfidf__ngram_range=(1, 6); total time=   2.3s\n",
      "[CV] END model__C=2, model__max_iter=10000, model__penalty=l2, model__tol=0.001, tfidf__min_df=10, tfidf__ngram_range=(1, 3); total time=   1.1s\n",
      "[CV] END model__C=2, model__max_iter=10000, model__penalty=l2, model__tol=0.001, tfidf__min_df=10, tfidf__ngram_range=(1, 3); total time=   1.1s\n",
      "[CV] END model__C=2, model__max_iter=10000, model__penalty=l2, model__tol=0.001, tfidf__min_df=10, tfidf__ngram_range=(1, 3); total time=   1.1s\n",
      "[CV] END model__C=2, model__max_iter=10000, model__penalty=l2, model__tol=0.001, tfidf__min_df=10, tfidf__ngram_range=(1, 3); total time=   1.1s\n",
      "[CV] END model__C=2, model__max_iter=10000, model__penalty=l2, model__tol=0.001, tfidf__min_df=10, tfidf__ngram_range=(1, 3); total time=   1.1s\n",
      "[CV] END model__C=2, model__max_iter=10000, model__penalty=l2, model__tol=0.001, tfidf__min_df=10, tfidf__ngram_range=(1, 6); total time=   2.2s\n",
      "[CV] END model__C=2, model__max_iter=10000, model__penalty=l2, model__tol=0.001, tfidf__min_df=10, tfidf__ngram_range=(1, 6); total time=   2.3s\n",
      "[CV] END model__C=2, model__max_iter=10000, model__penalty=l2, model__tol=0.001, tfidf__min_df=10, tfidf__ngram_range=(1, 6); total time=   2.2s\n",
      "[CV] END model__C=2, model__max_iter=10000, model__penalty=l2, model__tol=0.001, tfidf__min_df=10, tfidf__ngram_range=(1, 6); total time=   2.2s\n",
      "[CV] END model__C=2, model__max_iter=10000, model__penalty=l2, model__tol=0.001, tfidf__min_df=10, tfidf__ngram_range=(1, 6); total time=   2.3s\n",
      "[CV] END model__C=5, model__max_iter=10000, model__penalty=l2, model__tol=0.01, tfidf__min_df=5, tfidf__ngram_range=(1, 3); total time=   1.0s\n",
      "[CV] END model__C=5, model__max_iter=10000, model__penalty=l2, model__tol=0.01, tfidf__min_df=5, tfidf__ngram_range=(1, 3); total time=   1.1s\n",
      "[CV] END model__C=5, model__max_iter=10000, model__penalty=l2, model__tol=0.01, tfidf__min_df=5, tfidf__ngram_range=(1, 3); total time=   1.2s\n",
      "[CV] END model__C=5, model__max_iter=10000, model__penalty=l2, model__tol=0.01, tfidf__min_df=5, tfidf__ngram_range=(1, 3); total time=   1.1s\n",
      "[CV] END model__C=5, model__max_iter=10000, model__penalty=l2, model__tol=0.01, tfidf__min_df=5, tfidf__ngram_range=(1, 3); total time=   1.2s\n",
      "[CV] END model__C=5, model__max_iter=10000, model__penalty=l2, model__tol=0.01, tfidf__min_df=5, tfidf__ngram_range=(1, 6); total time=   2.2s\n",
      "[CV] END model__C=5, model__max_iter=10000, model__penalty=l2, model__tol=0.01, tfidf__min_df=5, tfidf__ngram_range=(1, 6); total time=   2.3s\n",
      "[CV] END model__C=5, model__max_iter=10000, model__penalty=l2, model__tol=0.01, tfidf__min_df=5, tfidf__ngram_range=(1, 6); total time=   2.4s\n",
      "[CV] END model__C=5, model__max_iter=10000, model__penalty=l2, model__tol=0.01, tfidf__min_df=5, tfidf__ngram_range=(1, 6); total time=   2.3s\n",
      "[CV] END model__C=5, model__max_iter=10000, model__penalty=l2, model__tol=0.01, tfidf__min_df=5, tfidf__ngram_range=(1, 6); total time=   2.3s\n",
      "[CV] END model__C=5, model__max_iter=10000, model__penalty=l2, model__tol=0.01, tfidf__min_df=10, tfidf__ngram_range=(1, 3); total time=   1.3s\n",
      "[CV] END model__C=5, model__max_iter=10000, model__penalty=l2, model__tol=0.01, tfidf__min_df=10, tfidf__ngram_range=(1, 3); total time=   1.0s\n",
      "[CV] END model__C=5, model__max_iter=10000, model__penalty=l2, model__tol=0.01, tfidf__min_df=10, tfidf__ngram_range=(1, 3); total time=   1.0s\n",
      "[CV] END model__C=5, model__max_iter=10000, model__penalty=l2, model__tol=0.01, tfidf__min_df=10, tfidf__ngram_range=(1, 3); total time=   1.0s\n",
      "[CV] END model__C=5, model__max_iter=10000, model__penalty=l2, model__tol=0.01, tfidf__min_df=10, tfidf__ngram_range=(1, 3); total time=   1.1s\n",
      "[CV] END model__C=5, model__max_iter=10000, model__penalty=l2, model__tol=0.01, tfidf__min_df=10, tfidf__ngram_range=(1, 6); total time=   2.3s\n",
      "[CV] END model__C=5, model__max_iter=10000, model__penalty=l2, model__tol=0.01, tfidf__min_df=10, tfidf__ngram_range=(1, 6); total time=   2.2s\n",
      "[CV] END model__C=5, model__max_iter=10000, model__penalty=l2, model__tol=0.01, tfidf__min_df=10, tfidf__ngram_range=(1, 6); total time=   2.2s\n",
      "[CV] END model__C=5, model__max_iter=10000, model__penalty=l2, model__tol=0.01, tfidf__min_df=10, tfidf__ngram_range=(1, 6); total time=   2.2s\n",
      "[CV] END model__C=5, model__max_iter=10000, model__penalty=l2, model__tol=0.01, tfidf__min_df=10, tfidf__ngram_range=(1, 6); total time=   2.2s\n",
      "[CV] END model__C=5, model__max_iter=10000, model__penalty=l2, model__tol=0.001, tfidf__min_df=5, tfidf__ngram_range=(1, 3); total time=   1.1s\n",
      "[CV] END model__C=5, model__max_iter=10000, model__penalty=l2, model__tol=0.001, tfidf__min_df=5, tfidf__ngram_range=(1, 3); total time=   1.2s\n",
      "[CV] END model__C=5, model__max_iter=10000, model__penalty=l2, model__tol=0.001, tfidf__min_df=5, tfidf__ngram_range=(1, 3); total time=   1.2s\n",
      "[CV] END model__C=5, model__max_iter=10000, model__penalty=l2, model__tol=0.001, tfidf__min_df=5, tfidf__ngram_range=(1, 3); total time=   1.3s\n",
      "[CV] END model__C=5, model__max_iter=10000, model__penalty=l2, model__tol=0.001, tfidf__min_df=5, tfidf__ngram_range=(1, 3); total time=   1.2s\n",
      "[CV] END model__C=5, model__max_iter=10000, model__penalty=l2, model__tol=0.001, tfidf__min_df=5, tfidf__ngram_range=(1, 6); total time=   2.2s\n",
      "[CV] END model__C=5, model__max_iter=10000, model__penalty=l2, model__tol=0.001, tfidf__min_df=5, tfidf__ngram_range=(1, 6); total time=   2.3s\n",
      "[CV] END model__C=5, model__max_iter=10000, model__penalty=l2, model__tol=0.001, tfidf__min_df=5, tfidf__ngram_range=(1, 6); total time=   2.3s\n",
      "[CV] END model__C=5, model__max_iter=10000, model__penalty=l2, model__tol=0.001, tfidf__min_df=5, tfidf__ngram_range=(1, 6); total time=   2.3s\n",
      "[CV] END model__C=5, model__max_iter=10000, model__penalty=l2, model__tol=0.001, tfidf__min_df=5, tfidf__ngram_range=(1, 6); total time=   2.2s\n",
      "[CV] END model__C=5, model__max_iter=10000, model__penalty=l2, model__tol=0.001, tfidf__min_df=10, tfidf__ngram_range=(1, 3); total time=   1.1s\n",
      "[CV] END model__C=5, model__max_iter=10000, model__penalty=l2, model__tol=0.001, tfidf__min_df=10, tfidf__ngram_range=(1, 3); total time=   1.1s\n",
      "[CV] END model__C=5, model__max_iter=10000, model__penalty=l2, model__tol=0.001, tfidf__min_df=10, tfidf__ngram_range=(1, 3); total time=   1.1s\n",
      "[CV] END model__C=5, model__max_iter=10000, model__penalty=l2, model__tol=0.001, tfidf__min_df=10, tfidf__ngram_range=(1, 3); total time=   1.0s\n",
      "[CV] END model__C=5, model__max_iter=10000, model__penalty=l2, model__tol=0.001, tfidf__min_df=10, tfidf__ngram_range=(1, 3); total time=   1.1s\n",
      "[CV] END model__C=5, model__max_iter=10000, model__penalty=l2, model__tol=0.001, tfidf__min_df=10, tfidf__ngram_range=(1, 6); total time=   2.2s\n",
      "[CV] END model__C=5, model__max_iter=10000, model__penalty=l2, model__tol=0.001, tfidf__min_df=10, tfidf__ngram_range=(1, 6); total time=   2.1s\n",
      "[CV] END model__C=5, model__max_iter=10000, model__penalty=l2, model__tol=0.001, tfidf__min_df=10, tfidf__ngram_range=(1, 6); total time=   2.2s\n",
      "[CV] END model__C=5, model__max_iter=10000, model__penalty=l2, model__tol=0.001, tfidf__min_df=10, tfidf__ngram_range=(1, 6); total time=   2.2s\n",
      "[CV] END model__C=5, model__max_iter=10000, model__penalty=l2, model__tol=0.001, tfidf__min_df=10, tfidf__ngram_range=(1, 6); total time=   2.2s\n",
      "Best parameter identified by grid search  {'model__C': 2, 'model__max_iter': 10000, 'model__penalty': 'l2', 'model__tol': 0.01, 'tfidf__min_df': 5, 'tfidf__ngram_range': (1, 6)}\n",
      "Best result identified by grid search  0.8559999999999999\n"
     ]
    }
   ],
   "source": [
    "gridSearchProcessor = GridSearchCV(estimator=training_pipeline,\n",
    "param_grid=grid_param,scoring='accuracy',\n",
    "cv=5,verbose =2)\n",
    "gridSearchProcessor.fit(df['text'], df['labels'])\n",
    "best_params = gridSearchProcessor.best_params_\n",
    "print(\"Best parameter identified by grid search \", best_params)\n",
    "best_result = gridSearchProcessor.best_score_\n",
    "print(\"Best result identified by grid search \", best_result)"
   ]
  },
  {
   "cell_type": "markdown",
   "id": "7ac3f99e",
   "metadata": {},
   "source": [
    "# Grid search results "
   ]
  },
  {
   "cell_type": "code",
   "execution_count": 111,
   "id": "1ba755f3",
   "metadata": {},
   "outputs": [
    {
     "data": {
      "text/html": [
       "<div>\n",
       "<style scoped>\n",
       "    .dataframe tbody tr th:only-of-type {\n",
       "        vertical-align: middle;\n",
       "    }\n",
       "\n",
       "    .dataframe tbody tr th {\n",
       "        vertical-align: top;\n",
       "    }\n",
       "\n",
       "    .dataframe thead th {\n",
       "        text-align: right;\n",
       "    }\n",
       "</style>\n",
       "<table border=\"1\" class=\"dataframe\">\n",
       "  <thead>\n",
       "    <tr style=\"text-align: right;\">\n",
       "      <th></th>\n",
       "      <th>rank_test_score</th>\n",
       "      <th>mean_test_score</th>\n",
       "      <th>params</th>\n",
       "    </tr>\n",
       "  </thead>\n",
       "  <tbody>\n",
       "    <tr>\n",
       "      <th>21</th>\n",
       "      <td>1</td>\n",
       "      <td>0.856000</td>\n",
       "      <td>{'model__C': 2, 'model__max_iter': 10000, 'mod...</td>\n",
       "    </tr>\n",
       "    <tr>\n",
       "      <th>17</th>\n",
       "      <td>1</td>\n",
       "      <td>0.856000</td>\n",
       "      <td>{'model__C': 2, 'model__max_iter': 10000, 'mod...</td>\n",
       "    </tr>\n",
       "    <tr>\n",
       "      <th>20</th>\n",
       "      <td>3</td>\n",
       "      <td>0.855875</td>\n",
       "      <td>{'model__C': 2, 'model__max_iter': 10000, 'mod...</td>\n",
       "    </tr>\n",
       "    <tr>\n",
       "      <th>16</th>\n",
       "      <td>3</td>\n",
       "      <td>0.855875</td>\n",
       "      <td>{'model__C': 2, 'model__max_iter': 10000, 'mod...</td>\n",
       "    </tr>\n",
       "    <tr>\n",
       "      <th>29</th>\n",
       "      <td>5</td>\n",
       "      <td>0.854250</td>\n",
       "      <td>{'model__C': 5, 'model__max_iter': 10000, 'mod...</td>\n",
       "    </tr>\n",
       "  </tbody>\n",
       "</table>\n",
       "</div>"
      ],
      "text/plain": [
       "    rank_test_score  mean_test_score  \\\n",
       "21                1         0.856000   \n",
       "17                1         0.856000   \n",
       "20                3         0.855875   \n",
       "16                3         0.855875   \n",
       "29                5         0.854250   \n",
       "\n",
       "                                               params  \n",
       "21  {'model__C': 2, 'model__max_iter': 10000, 'mod...  \n",
       "17  {'model__C': 2, 'model__max_iter': 10000, 'mod...  \n",
       "20  {'model__C': 2, 'model__max_iter': 10000, 'mod...  \n",
       "16  {'model__C': 2, 'model__max_iter': 10000, 'mod...  \n",
       "29  {'model__C': 5, 'model__max_iter': 10000, 'mod...  "
      ]
     },
     "execution_count": 111,
     "metadata": {},
     "output_type": "execute_result"
    }
   ],
   "source": [
    "gridsearch_results = pd.DataFrame(gridSearchProcessor.cv_results_)\n",
    "gridsearch_results[['rank_test_score', 'mean_test_score',\n",
    "'params']].sort_values(by=['rank_test_score'])[:5]"
   ]
  },
  {
   "cell_type": "markdown",
   "id": "3e3e57e9",
   "metadata": {},
   "source": [
    "# Best Model"
   ]
  },
  {
   "cell_type": "code",
   "execution_count": 112,
   "id": "285d43f2",
   "metadata": {},
   "outputs": [],
   "source": [
    "best_model = gridSearchProcessor.best_estimator_"
   ]
  },
  {
   "cell_type": "code",
   "execution_count": 113,
   "id": "4204d5ce",
   "metadata": {},
   "outputs": [
    {
     "data": {
      "text/plain": [
       "Pipeline(steps=[('tfidf',\n",
       "                 TfidfVectorizer(min_df=5, ngram_range=(1, 6),\n",
       "                                 stop_words='english')),\n",
       "                ('model',\n",
       "                 LogisticRegression(C=2, max_iter=10000, random_state=42,\n",
       "                                    tol=0.01))])"
      ]
     },
     "execution_count": 113,
     "metadata": {},
     "output_type": "execute_result"
    }
   ],
   "source": [
    "best_model"
   ]
  },
  {
   "cell_type": "markdown",
   "id": "8b156a79",
   "metadata": {},
   "source": [
    "# Model Evaluvation"
   ]
  },
  {
   "cell_type": "markdown",
   "id": "d346fc8f",
   "metadata": {},
   "source": [
    "Confusion metrics"
   ]
  },
  {
   "cell_type": "code",
   "execution_count": 115,
   "id": "b1172a68",
   "metadata": {},
   "outputs": [
    {
     "data": {
      "text/plain": [
       "array([[765,  35],\n",
       "       [ 36, 764]], dtype=int64)"
      ]
     },
     "execution_count": 115,
     "metadata": {},
     "output_type": "execute_result"
    }
   ],
   "source": [
    "confusion_matrix(Y_test, Y_pred)"
   ]
  },
  {
   "cell_type": "code",
   "execution_count": 114,
   "id": "3292f5ba",
   "metadata": {},
   "outputs": [
    {
     "name": "stdout",
     "output_type": "stream",
     "text": [
      "Accuracy Score -  0.955625\n",
      "              precision    recall  f1-score   support\n",
      "\n",
      "  __label__1       0.96      0.96      0.96       800\n",
      "  __label__2       0.96      0.95      0.96       800\n",
      "\n",
      "    accuracy                           0.96      1600\n",
      "   macro avg       0.96      0.96      0.96      1600\n",
      "weighted avg       0.96      0.96      0.96      1600\n",
      "\n"
     ]
    }
   ],
   "source": [
    "Y_pred = best_model.predict(X_test)\n",
    "print('Accuracy Score - ', accuracy_score(Y_test, Y_pred))\n",
    "print(classification_report(Y_test, Y_pred))"
   ]
  },
  {
   "cell_type": "markdown",
   "id": "29203032",
   "metadata": {},
   "source": [
    "# Conclusion"
   ]
  },
  {
   "cell_type": "markdown",
   "id": "e76995b0",
   "metadata": {},
   "source": [
    "Accurate Sentiment Classification: \n",
    "\n",
    "    The developed NLP model demonstrates a high level of accuracy in categorizing e-commerce reviews into positive and negative sentiments. This accuracy enables businesses to swiftly identify and respond to customer feedback.\n",
    "\n",
    "Enhanced Customer Insights: \n",
    "    \n",
    "    The project has provided valuable insights into customer sentiment, allowing e-commerce platforms to gain a deeper understanding of their customers' opinions and preferences. This, in turn, can guide decision-making and product/service improvements.\n",
    "\n",
    "Operational Efficiency: \n",
    "\n",
    "    The automation of sentiment analysis reduces the manual effort required to sort and analyze reviews, increasing operational efficiency and enabling timely responses to customer concerns or positive feedback.\n",
    "\n",
    "Competitive Advantage:\n",
    "\n",
    "    By leveraging sentiment analysis, e-commerce businesses can gain a competitive advantage by swiftly adapting to customer feedback, improving products and services, and ultimately enhancing customer satisfaction.\n",
    "\n",
    "Future Development: \n",
    "\n",
    "    While the current project focuses on binary sentiment classification, there is potential for further enhancement by implementing multi-class sentiment analysis to capture more nuanced sentiments, such as neutral or mixed reviews."
   ]
  },
  {
   "cell_type": "code",
   "execution_count": null,
   "id": "36dc6ae6",
   "metadata": {},
   "outputs": [],
   "source": []
  }
 ],
 "metadata": {
  "kernelspec": {
   "display_name": "Python 3 (ipykernel)",
   "language": "python",
   "name": "python3"
  },
  "language_info": {
   "codemirror_mode": {
    "name": "ipython",
    "version": 3
   },
   "file_extension": ".py",
   "mimetype": "text/x-python",
   "name": "python",
   "nbconvert_exporter": "python",
   "pygments_lexer": "ipython3",
   "version": "3.9.12"
  }
 },
 "nbformat": 4,
 "nbformat_minor": 5
}
